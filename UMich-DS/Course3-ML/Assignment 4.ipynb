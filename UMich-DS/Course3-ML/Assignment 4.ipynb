{
 "cells": [
  {
   "cell_type": "markdown",
   "metadata": {},
   "source": [
    "---\n",
    "\n",
    "_You are currently looking at **version 1.1** of this notebook. To download notebooks and datafiles, as well as get help on Jupyter notebooks in the Coursera platform, visit the [Jupyter Notebook FAQ](https://www.coursera.org/learn/python-machine-learning/resources/bANLa) course resource._\n",
    "\n",
    "---"
   ]
  },
  {
   "cell_type": "markdown",
   "metadata": {},
   "source": [
    "## Assignment 4 - Understanding and Predicting Property Maintenance Fines\n",
    "\n",
    "This assignment is based on a data challenge from the Michigan Data Science Team ([MDST](http://midas.umich.edu/mdst/)). \n",
    "\n",
    "The Michigan Data Science Team ([MDST](http://midas.umich.edu/mdst/)) and the Michigan Student Symposium for Interdisciplinary Statistical Sciences ([MSSISS](https://sites.lsa.umich.edu/mssiss/)) have partnered with the City of Detroit to help solve one of the most pressing problems facing Detroit - blight. [Blight violations](http://www.detroitmi.gov/How-Do-I/Report/Blight-Complaint-FAQs) are issued by the city to individuals who allow their properties to remain in a deteriorated condition. Every year, the city of Detroit issues millions of dollars in fines to residents and every year, many of these fines remain unpaid. Enforcing unpaid blight fines is a costly and tedious process, so the city wants to know: how can we increase blight ticket compliance?\n",
    "\n",
    "The first step in answering this question is understanding when and why a resident might fail to comply with a blight ticket. This is where predictive modeling comes in. For this assignment, your task is to predict whether a given blight ticket will be paid on time.\n",
    "\n",
    "All data for this assignment has been provided to us through the [Detroit Open Data Portal](https://data.detroitmi.gov/). **Only the data already included in your Coursera directory can be used for training the model for this assignment.** Nonetheless, we encourage you to look into data from other Detroit datasets to help inform feature creation and model selection. We recommend taking a look at the following related datasets:\n",
    "\n",
    "* [Building Permits](https://data.detroitmi.gov/Property-Parcels/Building-Permits/xw2a-a7tf)\n",
    "* [Trades Permits](https://data.detroitmi.gov/Property-Parcels/Trades-Permits/635b-dsgv)\n",
    "* [Improve Detroit: Submitted Issues](https://data.detroitmi.gov/Government/Improve-Detroit-Submitted-Issues/fwz3-w3yn)\n",
    "* [DPD: Citizen Complaints](https://data.detroitmi.gov/Public-Safety/DPD-Citizen-Complaints-2016/kahe-efs3)\n",
    "* [Parcel Map](https://data.detroitmi.gov/Property-Parcels/Parcel-Map/fxkw-udwf)\n",
    "\n",
    "___\n",
    "\n",
    "We provide you with two data files for use in training and validating your models: train.csv and test.csv. Each row in these two files corresponds to a single blight ticket, and includes information about when, why, and to whom each ticket was issued. The target variable is compliance, which is True if the ticket was paid early, on time, or within one month of the hearing data, False if the ticket was paid after the hearing date or not at all, and Null if the violator was found not responsible. Compliance, as well as a handful of other variables that will not be available at test-time, are only included in train.csv.\n",
    "\n",
    "Note: All tickets where the violators were found not responsible are not considered during evaluation. They are included in the training set as an additional source of data for visualization, and to enable unsupervised and semi-supervised approaches. However, they are not included in the test set.\n",
    "\n",
    "<br>\n",
    "\n",
    "**File descriptions** (Use only this data for training your model!)\n",
    "\n",
    "    readonly/train.csv - the training set (all tickets issued 2004-2011)\n",
    "    readonly/test.csv - the test set (all tickets issued 2012-2016)\n",
    "    readonly/addresses.csv & readonly/latlons.csv - mapping from ticket id to addresses, and from addresses to lat/lon coordinates. \n",
    "     Note: misspelled addresses may be incorrectly geolocated.\n",
    "\n",
    "<br>\n",
    "\n",
    "**Data fields**\n",
    "\n",
    "train.csv & test.csv\n",
    "\n",
    "    ticket_id - unique identifier for tickets\n",
    "    agency_name - Agency that issued the ticket\n",
    "    inspector_name - Name of inspector that issued the ticket\n",
    "    violator_name - Name of the person/organization that the ticket was issued to\n",
    "    violation_street_number, violation_street_name, violation_zip_code - Address where the violation occurred\n",
    "    mailing_address_str_number, mailing_address_str_name, city, state, zip_code, non_us_str_code, country - Mailing address of the violator\n",
    "    ticket_issued_date - Date and time the ticket was issued\n",
    "    hearing_date - Date and time the violator's hearing was scheduled\n",
    "    violation_code, violation_description - Type of violation\n",
    "    disposition - Judgment and judgement type\n",
    "    fine_amount - Violation fine amount, excluding fees\n",
    "    admin_fee - $20 fee assigned to responsible judgments\n",
    "state_fee - $10 fee assigned to responsible judgments\n",
    "    late_fee - 10% fee assigned to responsible judgments\n",
    "    discount_amount - discount applied, if any\n",
    "    clean_up_cost - DPW clean-up or graffiti removal cost\n",
    "    judgment_amount - Sum of all fines and fees\n",
    "    grafitti_status - Flag for graffiti violations\n",
    "    \n",
    "train.csv only\n",
    "\n",
    "    payment_amount - Amount paid, if any\n",
    "    payment_date - Date payment was made, if it was received\n",
    "    payment_status - Current payment status as of Feb 1 2017\n",
    "    balance_due - Fines and fees still owed\n",
    "    collection_status - Flag for payments in collections\n",
    "    compliance [target variable for prediction] \n",
    "     Null = Not responsible\n",
    "     0 = Responsible, non-compliant\n",
    "     1 = Responsible, compliant\n",
    "    compliance_detail - More information on why each ticket was marked compliant or non-compliant\n",
    "\n",
    "\n",
    "___\n",
    "\n",
    "## Evaluation\n",
    "\n",
    "Your predictions will be given as the probability that the corresponding blight ticket will be paid on time.\n",
    "\n",
    "The evaluation metric for this assignment is the Area Under the ROC Curve (AUC). \n",
    "\n",
    "Your grade will be based on the AUC score computed for your classifier. A model which with an AUROC of 0.7 passes this assignment, over 0.75 will recieve full points.\n",
    "___\n",
    "\n",
    "For this assignment, create a function that trains a model to predict blight ticket compliance in Detroit using `readonly/train.csv`. Using this model, return a series of length 61001 with the data being the probability that each corresponding ticket from `readonly/test.csv` will be paid, and the index being the ticket_id.\n",
    "\n",
    "Example:\n",
    "\n",
    "    ticket_id\n",
    "       284932    0.531842\n",
    "       285362    0.401958\n",
    "       285361    0.105928\n",
    "       285338    0.018572\n",
    "                 ...\n",
    "       376499    0.208567\n",
    "       376500    0.818759\n",
    "       369851    0.018528\n",
    "       Name: compliance, dtype: float32\n",
    "       \n",
    "### Hints\n",
    "\n",
    "* Make sure your code is working before submitting it to the autograder.\n",
    "\n",
    "* Print out your result to see whether there is anything weird (e.g., all probabilities are the same).\n",
    "\n",
    "* Generally the total runtime should be less than 10 mins. You should NOT use Neural Network related classifiers (e.g., MLPClassifier) in this question. \n",
    "\n",
    "* Try to avoid global variables. If you have other functions besides blight_model, you should move those functions inside the scope of blight_model.\n",
    "\n",
    "* Refer to the pinned threads in Week 4's discussion forum when there is something you could not figure it out."
   ]
  },
  {
   "cell_type": "code",
   "execution_count": 1,
   "metadata": {
    "collapsed": true
   },
   "outputs": [],
   "source": [
    "import pandas as pd\n",
    "import numpy as np"
   ]
  },
  {
   "cell_type": "markdown",
   "metadata": {},
   "source": [
    "## `test.csv`\n",
    "\n",
    "Examine `test.csv`"
   ]
  },
  {
   "cell_type": "code",
   "execution_count": 2,
   "metadata": {
    "collapsed": false,
    "scrolled": true
   },
   "outputs": [
    {
     "output_type": "execute_result",
     "data": {
      "text/plain": "   ticket_id                                     agency_name  \\\n0      22056  Buildings, Safety Engineering & Env Department   \n1      27586  Buildings, Safety Engineering & Env Department   \n2      22062  Buildings, Safety Engineering & Env Department   \n3      22084  Buildings, Safety Engineering & Env Department   \n4      22093  Buildings, Safety Engineering & Env Department   \n\n     inspector_name                      violator_name  \\\n0   Sims, Martinzie  INVESTMENT INC., MIDWEST MORTGAGE   \n1  Williams, Darrin           Michigan, Covenant House   \n2   Sims, Martinzie                    SANDERS, DERRON   \n3   Sims, Martinzie                       MOROSI, MIKE   \n4   Sims, Martinzie                    NATHANIEL, NEAL   \n\n   violation_street_number violation_street_name  violation_zip_code  \\\n0                   2900.0                 TYLER                 NaN   \n1                   4311.0               CENTRAL                 NaN   \n2                   1449.0            LONGFELLOW                 NaN   \n3                   1441.0            LONGFELLOW                 NaN   \n4                   2449.0             CHURCHILL                 NaN   \n\n   mailing_address_str_number mailing_address_str_name     city  ...  \\\n0                         3.0                S. WICKER  CHICAGO  ...   \n1                      2959.0       Martin Luther King  Detroit  ...   \n2                     23658.0                 P.O. BOX  DETROIT  ...   \n3                         5.0                ST. CLAIR  DETROIT  ...   \n4                      7449.0                CHURCHILL  DETROIT  ...   \n\n  clean_up_cost judgment_amount payment_amount balance_due  \\\n0           0.0           305.0            0.0       305.0   \n1           0.0           855.0          780.0        75.0   \n2           0.0             0.0            0.0         0.0   \n3           0.0             0.0            0.0         0.0   \n4           0.0             0.0            0.0         0.0   \n\n          payment_date      payment_status collection_status grafitti_status  \\\n0                  NaN  NO PAYMENT APPLIED               NaN             NaN   \n1  2005-06-02 00:00:00        PAID IN FULL               NaN             NaN   \n2                  NaN  NO PAYMENT APPLIED               NaN             NaN   \n3                  NaN  NO PAYMENT APPLIED               NaN             NaN   \n4                  NaN  NO PAYMENT APPLIED               NaN             NaN   \n\n                          compliance_detail  compliance  \n0               non-compliant by no payment         0.0  \n1  compliant by late payment within 1 month         1.0  \n2            not responsible by disposition         NaN  \n3            not responsible by disposition         NaN  \n4            not responsible by disposition         NaN  \n\n[5 rows x 34 columns]",
      "text/html": "<div>\n<style scoped>\n    .dataframe tbody tr th:only-of-type {\n        vertical-align: middle;\n    }\n\n    .dataframe tbody tr th {\n        vertical-align: top;\n    }\n\n    .dataframe thead th {\n        text-align: right;\n    }\n</style>\n<table border=\"1\" class=\"dataframe\">\n  <thead>\n    <tr style=\"text-align: right;\">\n      <th></th>\n      <th>ticket_id</th>\n      <th>agency_name</th>\n      <th>inspector_name</th>\n      <th>violator_name</th>\n      <th>violation_street_number</th>\n      <th>violation_street_name</th>\n      <th>violation_zip_code</th>\n      <th>mailing_address_str_number</th>\n      <th>mailing_address_str_name</th>\n      <th>city</th>\n      <th>...</th>\n      <th>clean_up_cost</th>\n      <th>judgment_amount</th>\n      <th>payment_amount</th>\n      <th>balance_due</th>\n      <th>payment_date</th>\n      <th>payment_status</th>\n      <th>collection_status</th>\n      <th>grafitti_status</th>\n      <th>compliance_detail</th>\n      <th>compliance</th>\n    </tr>\n  </thead>\n  <tbody>\n    <tr>\n      <th>0</th>\n      <td>22056</td>\n      <td>Buildings, Safety Engineering &amp; Env Department</td>\n      <td>Sims, Martinzie</td>\n      <td>INVESTMENT INC., MIDWEST MORTGAGE</td>\n      <td>2900.0</td>\n      <td>TYLER</td>\n      <td>NaN</td>\n      <td>3.0</td>\n      <td>S. WICKER</td>\n      <td>CHICAGO</td>\n      <td>...</td>\n      <td>0.0</td>\n      <td>305.0</td>\n      <td>0.0</td>\n      <td>305.0</td>\n      <td>NaN</td>\n      <td>NO PAYMENT APPLIED</td>\n      <td>NaN</td>\n      <td>NaN</td>\n      <td>non-compliant by no payment</td>\n      <td>0.0</td>\n    </tr>\n    <tr>\n      <th>1</th>\n      <td>27586</td>\n      <td>Buildings, Safety Engineering &amp; Env Department</td>\n      <td>Williams, Darrin</td>\n      <td>Michigan, Covenant House</td>\n      <td>4311.0</td>\n      <td>CENTRAL</td>\n      <td>NaN</td>\n      <td>2959.0</td>\n      <td>Martin Luther King</td>\n      <td>Detroit</td>\n      <td>...</td>\n      <td>0.0</td>\n      <td>855.0</td>\n      <td>780.0</td>\n      <td>75.0</td>\n      <td>2005-06-02 00:00:00</td>\n      <td>PAID IN FULL</td>\n      <td>NaN</td>\n      <td>NaN</td>\n      <td>compliant by late payment within 1 month</td>\n      <td>1.0</td>\n    </tr>\n    <tr>\n      <th>2</th>\n      <td>22062</td>\n      <td>Buildings, Safety Engineering &amp; Env Department</td>\n      <td>Sims, Martinzie</td>\n      <td>SANDERS, DERRON</td>\n      <td>1449.0</td>\n      <td>LONGFELLOW</td>\n      <td>NaN</td>\n      <td>23658.0</td>\n      <td>P.O. BOX</td>\n      <td>DETROIT</td>\n      <td>...</td>\n      <td>0.0</td>\n      <td>0.0</td>\n      <td>0.0</td>\n      <td>0.0</td>\n      <td>NaN</td>\n      <td>NO PAYMENT APPLIED</td>\n      <td>NaN</td>\n      <td>NaN</td>\n      <td>not responsible by disposition</td>\n      <td>NaN</td>\n    </tr>\n    <tr>\n      <th>3</th>\n      <td>22084</td>\n      <td>Buildings, Safety Engineering &amp; Env Department</td>\n      <td>Sims, Martinzie</td>\n      <td>MOROSI, MIKE</td>\n      <td>1441.0</td>\n      <td>LONGFELLOW</td>\n      <td>NaN</td>\n      <td>5.0</td>\n      <td>ST. CLAIR</td>\n      <td>DETROIT</td>\n      <td>...</td>\n      <td>0.0</td>\n      <td>0.0</td>\n      <td>0.0</td>\n      <td>0.0</td>\n      <td>NaN</td>\n      <td>NO PAYMENT APPLIED</td>\n      <td>NaN</td>\n      <td>NaN</td>\n      <td>not responsible by disposition</td>\n      <td>NaN</td>\n    </tr>\n    <tr>\n      <th>4</th>\n      <td>22093</td>\n      <td>Buildings, Safety Engineering &amp; Env Department</td>\n      <td>Sims, Martinzie</td>\n      <td>NATHANIEL, NEAL</td>\n      <td>2449.0</td>\n      <td>CHURCHILL</td>\n      <td>NaN</td>\n      <td>7449.0</td>\n      <td>CHURCHILL</td>\n      <td>DETROIT</td>\n      <td>...</td>\n      <td>0.0</td>\n      <td>0.0</td>\n      <td>0.0</td>\n      <td>0.0</td>\n      <td>NaN</td>\n      <td>NO PAYMENT APPLIED</td>\n      <td>NaN</td>\n      <td>NaN</td>\n      <td>not responsible by disposition</td>\n      <td>NaN</td>\n    </tr>\n  </tbody>\n</table>\n<p>5 rows × 34 columns</p>\n</div>"
     },
     "metadata": {},
     "execution_count": 2
    }
   ],
   "source": [
    "train_raw = pd.read_csv('train.csv', engine='python')\n",
    "train_raw.head()"
   ]
  },
  {
   "cell_type": "code",
   "execution_count": 3,
   "metadata": {
    "collapsed": false
   },
   "outputs": [
    {
     "output_type": "execute_result",
     "data": {
      "text/plain": "ticket_id                       int64\nagency_name                    object\ninspector_name                 object\nviolator_name                  object\nviolation_street_number       float64\nviolation_street_name          object\nviolation_zip_code            float64\nmailing_address_str_number    float64\nmailing_address_str_name       object\ncity                           object\nstate                          object\nzip_code                       object\nnon_us_str_code                object\ncountry                        object\nticket_issued_date             object\nhearing_date                   object\nviolation_code                 object\nviolation_description          object\ndisposition                    object\nfine_amount                   float64\nadmin_fee                     float64\nstate_fee                     float64\nlate_fee                      float64\ndiscount_amount               float64\nclean_up_cost                 float64\njudgment_amount               float64\npayment_amount                float64\nbalance_due                   float64\npayment_date                   object\npayment_status                 object\ncollection_status              object\ngrafitti_status                object\ncompliance_detail              object\ncompliance                    float64\ndtype: object"
     },
     "metadata": {},
     "execution_count": 3
    }
   ],
   "source": [
    "train_raw.dtypes"
   ]
  },
  {
   "cell_type": "markdown",
   "metadata": {},
   "source": [
    "Make a clone copy so that it's easier to get a fresh copy (without pd.read_csv() again) in case I mess up something"
   ]
  },
  {
   "cell_type": "code",
   "execution_count": 4,
   "metadata": {
    "collapsed": true
   },
   "outputs": [],
   "source": [
    "train = train_raw.copy()"
   ]
  },
  {
   "cell_type": "markdown",
   "metadata": {},
   "source": [
    "Delete columns that won't be available in `train.csv`"
   ]
  },
  {
   "cell_type": "code",
   "execution_count": 5,
   "metadata": {
    "collapsed": false,
    "scrolled": true
   },
   "outputs": [
    {
     "output_type": "execute_result",
     "data": {
      "text/plain": "   ticket_id                                     agency_name  \\\n0      22056  Buildings, Safety Engineering & Env Department   \n1      27586  Buildings, Safety Engineering & Env Department   \n2      22062  Buildings, Safety Engineering & Env Department   \n3      22084  Buildings, Safety Engineering & Env Department   \n4      22093  Buildings, Safety Engineering & Env Department   \n\n     inspector_name                      violator_name  \\\n0   Sims, Martinzie  INVESTMENT INC., MIDWEST MORTGAGE   \n1  Williams, Darrin           Michigan, Covenant House   \n2   Sims, Martinzie                    SANDERS, DERRON   \n3   Sims, Martinzie                       MOROSI, MIKE   \n4   Sims, Martinzie                    NATHANIEL, NEAL   \n\n   violation_street_number violation_street_name  violation_zip_code  \\\n0                   2900.0                 TYLER                 NaN   \n1                   4311.0               CENTRAL                 NaN   \n2                   1449.0            LONGFELLOW                 NaN   \n3                   1441.0            LONGFELLOW                 NaN   \n4                   2449.0             CHURCHILL                 NaN   \n\n   mailing_address_str_number mailing_address_str_name     city  ...  \\\n0                         3.0                S. WICKER  CHICAGO  ...   \n1                      2959.0       Martin Luther King  Detroit  ...   \n2                     23658.0                 P.O. BOX  DETROIT  ...   \n3                         5.0                ST. CLAIR  DETROIT  ...   \n4                      7449.0                CHURCHILL  DETROIT  ...   \n\n                         disposition fine_amount admin_fee state_fee late_fee  \\\n0             Responsible by Default       250.0      20.0      10.0     25.0   \n1       Responsible by Determination       750.0      20.0      10.0     75.0   \n2       Not responsible by Dismissal       250.0       0.0       0.0      0.0   \n3  Not responsible by City Dismissal       250.0       0.0       0.0      0.0   \n4       Not responsible by Dismissal       250.0       0.0       0.0      0.0   \n\n  discount_amount clean_up_cost judgment_amount grafitti_status  compliance  \n0             0.0           0.0           305.0             NaN         0.0  \n1             0.0           0.0           855.0             NaN         1.0  \n2             0.0           0.0             0.0             NaN         NaN  \n3             0.0           0.0             0.0             NaN         NaN  \n4             0.0           0.0             0.0             NaN         NaN  \n\n[5 rows x 28 columns]",
      "text/html": "<div>\n<style scoped>\n    .dataframe tbody tr th:only-of-type {\n        vertical-align: middle;\n    }\n\n    .dataframe tbody tr th {\n        vertical-align: top;\n    }\n\n    .dataframe thead th {\n        text-align: right;\n    }\n</style>\n<table border=\"1\" class=\"dataframe\">\n  <thead>\n    <tr style=\"text-align: right;\">\n      <th></th>\n      <th>ticket_id</th>\n      <th>agency_name</th>\n      <th>inspector_name</th>\n      <th>violator_name</th>\n      <th>violation_street_number</th>\n      <th>violation_street_name</th>\n      <th>violation_zip_code</th>\n      <th>mailing_address_str_number</th>\n      <th>mailing_address_str_name</th>\n      <th>city</th>\n      <th>...</th>\n      <th>disposition</th>\n      <th>fine_amount</th>\n      <th>admin_fee</th>\n      <th>state_fee</th>\n      <th>late_fee</th>\n      <th>discount_amount</th>\n      <th>clean_up_cost</th>\n      <th>judgment_amount</th>\n      <th>grafitti_status</th>\n      <th>compliance</th>\n    </tr>\n  </thead>\n  <tbody>\n    <tr>\n      <th>0</th>\n      <td>22056</td>\n      <td>Buildings, Safety Engineering &amp; Env Department</td>\n      <td>Sims, Martinzie</td>\n      <td>INVESTMENT INC., MIDWEST MORTGAGE</td>\n      <td>2900.0</td>\n      <td>TYLER</td>\n      <td>NaN</td>\n      <td>3.0</td>\n      <td>S. WICKER</td>\n      <td>CHICAGO</td>\n      <td>...</td>\n      <td>Responsible by Default</td>\n      <td>250.0</td>\n      <td>20.0</td>\n      <td>10.0</td>\n      <td>25.0</td>\n      <td>0.0</td>\n      <td>0.0</td>\n      <td>305.0</td>\n      <td>NaN</td>\n      <td>0.0</td>\n    </tr>\n    <tr>\n      <th>1</th>\n      <td>27586</td>\n      <td>Buildings, Safety Engineering &amp; Env Department</td>\n      <td>Williams, Darrin</td>\n      <td>Michigan, Covenant House</td>\n      <td>4311.0</td>\n      <td>CENTRAL</td>\n      <td>NaN</td>\n      <td>2959.0</td>\n      <td>Martin Luther King</td>\n      <td>Detroit</td>\n      <td>...</td>\n      <td>Responsible by Determination</td>\n      <td>750.0</td>\n      <td>20.0</td>\n      <td>10.0</td>\n      <td>75.0</td>\n      <td>0.0</td>\n      <td>0.0</td>\n      <td>855.0</td>\n      <td>NaN</td>\n      <td>1.0</td>\n    </tr>\n    <tr>\n      <th>2</th>\n      <td>22062</td>\n      <td>Buildings, Safety Engineering &amp; Env Department</td>\n      <td>Sims, Martinzie</td>\n      <td>SANDERS, DERRON</td>\n      <td>1449.0</td>\n      <td>LONGFELLOW</td>\n      <td>NaN</td>\n      <td>23658.0</td>\n      <td>P.O. BOX</td>\n      <td>DETROIT</td>\n      <td>...</td>\n      <td>Not responsible by Dismissal</td>\n      <td>250.0</td>\n      <td>0.0</td>\n      <td>0.0</td>\n      <td>0.0</td>\n      <td>0.0</td>\n      <td>0.0</td>\n      <td>0.0</td>\n      <td>NaN</td>\n      <td>NaN</td>\n    </tr>\n    <tr>\n      <th>3</th>\n      <td>22084</td>\n      <td>Buildings, Safety Engineering &amp; Env Department</td>\n      <td>Sims, Martinzie</td>\n      <td>MOROSI, MIKE</td>\n      <td>1441.0</td>\n      <td>LONGFELLOW</td>\n      <td>NaN</td>\n      <td>5.0</td>\n      <td>ST. CLAIR</td>\n      <td>DETROIT</td>\n      <td>...</td>\n      <td>Not responsible by City Dismissal</td>\n      <td>250.0</td>\n      <td>0.0</td>\n      <td>0.0</td>\n      <td>0.0</td>\n      <td>0.0</td>\n      <td>0.0</td>\n      <td>0.0</td>\n      <td>NaN</td>\n      <td>NaN</td>\n    </tr>\n    <tr>\n      <th>4</th>\n      <td>22093</td>\n      <td>Buildings, Safety Engineering &amp; Env Department</td>\n      <td>Sims, Martinzie</td>\n      <td>NATHANIEL, NEAL</td>\n      <td>2449.0</td>\n      <td>CHURCHILL</td>\n      <td>NaN</td>\n      <td>7449.0</td>\n      <td>CHURCHILL</td>\n      <td>DETROIT</td>\n      <td>...</td>\n      <td>Not responsible by Dismissal</td>\n      <td>250.0</td>\n      <td>0.0</td>\n      <td>0.0</td>\n      <td>0.0</td>\n      <td>0.0</td>\n      <td>0.0</td>\n      <td>0.0</td>\n      <td>NaN</td>\n      <td>NaN</td>\n    </tr>\n  </tbody>\n</table>\n<p>5 rows × 28 columns</p>\n</div>"
     },
     "metadata": {},
     "execution_count": 5
    }
   ],
   "source": [
    "remove = ['payment_amount',\n",
    "          'payment_date',\n",
    "          'payment_status',\n",
    "          'balance_due',\n",
    "          'collection_status',\n",
    "          'compliance_detail']\n",
    "for column in remove:\n",
    "    del train[column]\n",
    "train.head()"
   ]
  },
  {
   "cell_type": "code",
   "execution_count": 6,
   "metadata": {
    "collapsed": false
   },
   "outputs": [
    {
     "output_type": "stream",
     "name": "stdout",
     "text": "<class 'pandas.core.frame.DataFrame'>\nRangeIndex: 250306 entries, 0 to 250305\nData columns (total 28 columns):\n #   Column                      Non-Null Count   Dtype  \n---  ------                      --------------   -----  \n 0   ticket_id                   250306 non-null  int64  \n 1   agency_name                 250306 non-null  object \n 2   inspector_name              250306 non-null  object \n 3   violator_name               250272 non-null  object \n 4   violation_street_number     250306 non-null  float64\n 5   violation_street_name       250306 non-null  object \n 6   violation_zip_code          0 non-null       float64\n 7   mailing_address_str_number  246704 non-null  float64\n 8   mailing_address_str_name    250302 non-null  object \n 9   city                        250306 non-null  object \n 10  state                       250213 non-null  object \n 11  zip_code                    250305 non-null  object \n 12  non_us_str_code             3 non-null       object \n 13  country                     250306 non-null  object \n 14  ticket_issued_date          250306 non-null  object \n 15  hearing_date                237815 non-null  object \n 16  violation_code              250306 non-null  object \n 17  violation_description       250306 non-null  object \n 18  disposition                 250306 non-null  object \n 19  fine_amount                 250305 non-null  float64\n 20  admin_fee                   250306 non-null  float64\n 21  state_fee                   250306 non-null  float64\n 22  late_fee                    250306 non-null  float64\n 23  discount_amount             250306 non-null  float64\n 24  clean_up_cost               250306 non-null  float64\n 25  judgment_amount             250306 non-null  float64\n 26  grafitti_status             1 non-null       object \n 27  compliance                  159880 non-null  float64\ndtypes: float64(11), int64(1), object(16)\nmemory usage: 53.5+ MB\n"
    }
   ],
   "source": [
    "train.info()"
   ]
  },
  {
   "cell_type": "code",
   "execution_count": 7,
   "metadata": {},
   "outputs": [
    {
     "output_type": "execute_result",
     "data": {
      "text/plain": "ticket_id                     250306\nagency_name                        5\ninspector_name                   173\nviolator_name                 119992\nviolation_street_number        19175\nviolation_street_name           1791\nviolation_zip_code                 0\nmailing_address_str_number     15826\nmailing_address_str_name       37896\ncity                            5184\nstate                             59\nzip_code                        4251\nnon_us_str_code                    2\ncountry                            5\nticket_issued_date             86979\nhearing_date                    6222\nviolation_code                   235\nviolation_description            258\ndisposition                        9\nfine_amount                       43\nadmin_fee                          2\nstate_fee                          2\nlate_fee                          37\ndiscount_amount                   13\nclean_up_cost                      1\njudgment_amount                   57\ngrafitti_status                    1\ncompliance                         2\ndtype: int64"
     },
     "metadata": {},
     "execution_count": 7
    }
   ],
   "source": [
    "train.nunique()"
   ]
  },
  {
   "cell_type": "markdown",
   "metadata": {},
   "source": [
    "## Features selection\n",
    "\n",
    "Select features for training. Columns that are not selected because they don't have connection to target value or may be a source of data leakage (e.g. `ticket_id`). Some features are not included because they have too many unique values (e.g. `city` unique values are half of the total entries). Other excluded columns have too many `NaN` values (e.g. `violation_zip_code`)"
   ]
  },
  {
   "cell_type": "code",
   "execution_count": 8,
   "metadata": {
    "collapsed": false
   },
   "outputs": [
    {
     "output_type": "execute_result",
     "data": {
      "text/plain": "                                      agency_name    inspector_name state  \\\n0  Buildings, Safety Engineering & Env Department   Sims, Martinzie    IL   \n1  Buildings, Safety Engineering & Env Department  Williams, Darrin    MI   \n2  Buildings, Safety Engineering & Env Department   Sims, Martinzie    MI   \n3  Buildings, Safety Engineering & Env Department   Sims, Martinzie    MI   \n4  Buildings, Safety Engineering & Env Department   Sims, Martinzie    MI   \n\n  country   ticket_issued_date         hearing_date  \\\n0     USA  2004-03-16 11:40:00  2005-03-21 10:30:00   \n1     USA  2004-04-23 12:30:00  2005-05-06 13:30:00   \n2     USA  2004-04-26 13:40:00  2005-03-29 10:30:00   \n3     USA  2004-04-26 13:30:00                  NaN   \n4     USA  2004-04-26 13:00:00  2005-03-29 10:30:00   \n\n                         disposition  fine_amount  admin_fee  state_fee  \\\n0             Responsible by Default        250.0       20.0       10.0   \n1       Responsible by Determination        750.0       20.0       10.0   \n2       Not responsible by Dismissal        250.0        0.0        0.0   \n3  Not responsible by City Dismissal        250.0        0.0        0.0   \n4       Not responsible by Dismissal        250.0        0.0        0.0   \n\n   late_fee  discount_amount  judgment_amount  compliance  \n0      25.0              0.0            305.0         0.0  \n1      75.0              0.0            855.0         1.0  \n2       0.0              0.0              0.0         NaN  \n3       0.0              0.0              0.0         NaN  \n4       0.0              0.0              0.0         NaN  ",
      "text/html": "<div>\n<style scoped>\n    .dataframe tbody tr th:only-of-type {\n        vertical-align: middle;\n    }\n\n    .dataframe tbody tr th {\n        vertical-align: top;\n    }\n\n    .dataframe thead th {\n        text-align: right;\n    }\n</style>\n<table border=\"1\" class=\"dataframe\">\n  <thead>\n    <tr style=\"text-align: right;\">\n      <th></th>\n      <th>agency_name</th>\n      <th>inspector_name</th>\n      <th>state</th>\n      <th>country</th>\n      <th>ticket_issued_date</th>\n      <th>hearing_date</th>\n      <th>disposition</th>\n      <th>fine_amount</th>\n      <th>admin_fee</th>\n      <th>state_fee</th>\n      <th>late_fee</th>\n      <th>discount_amount</th>\n      <th>judgment_amount</th>\n      <th>compliance</th>\n    </tr>\n  </thead>\n  <tbody>\n    <tr>\n      <th>0</th>\n      <td>Buildings, Safety Engineering &amp; Env Department</td>\n      <td>Sims, Martinzie</td>\n      <td>IL</td>\n      <td>USA</td>\n      <td>2004-03-16 11:40:00</td>\n      <td>2005-03-21 10:30:00</td>\n      <td>Responsible by Default</td>\n      <td>250.0</td>\n      <td>20.0</td>\n      <td>10.0</td>\n      <td>25.0</td>\n      <td>0.0</td>\n      <td>305.0</td>\n      <td>0.0</td>\n    </tr>\n    <tr>\n      <th>1</th>\n      <td>Buildings, Safety Engineering &amp; Env Department</td>\n      <td>Williams, Darrin</td>\n      <td>MI</td>\n      <td>USA</td>\n      <td>2004-04-23 12:30:00</td>\n      <td>2005-05-06 13:30:00</td>\n      <td>Responsible by Determination</td>\n      <td>750.0</td>\n      <td>20.0</td>\n      <td>10.0</td>\n      <td>75.0</td>\n      <td>0.0</td>\n      <td>855.0</td>\n      <td>1.0</td>\n    </tr>\n    <tr>\n      <th>2</th>\n      <td>Buildings, Safety Engineering &amp; Env Department</td>\n      <td>Sims, Martinzie</td>\n      <td>MI</td>\n      <td>USA</td>\n      <td>2004-04-26 13:40:00</td>\n      <td>2005-03-29 10:30:00</td>\n      <td>Not responsible by Dismissal</td>\n      <td>250.0</td>\n      <td>0.0</td>\n      <td>0.0</td>\n      <td>0.0</td>\n      <td>0.0</td>\n      <td>0.0</td>\n      <td>NaN</td>\n    </tr>\n    <tr>\n      <th>3</th>\n      <td>Buildings, Safety Engineering &amp; Env Department</td>\n      <td>Sims, Martinzie</td>\n      <td>MI</td>\n      <td>USA</td>\n      <td>2004-04-26 13:30:00</td>\n      <td>NaN</td>\n      <td>Not responsible by City Dismissal</td>\n      <td>250.0</td>\n      <td>0.0</td>\n      <td>0.0</td>\n      <td>0.0</td>\n      <td>0.0</td>\n      <td>0.0</td>\n      <td>NaN</td>\n    </tr>\n    <tr>\n      <th>4</th>\n      <td>Buildings, Safety Engineering &amp; Env Department</td>\n      <td>Sims, Martinzie</td>\n      <td>MI</td>\n      <td>USA</td>\n      <td>2004-04-26 13:00:00</td>\n      <td>2005-03-29 10:30:00</td>\n      <td>Not responsible by Dismissal</td>\n      <td>250.0</td>\n      <td>0.0</td>\n      <td>0.0</td>\n      <td>0.0</td>\n      <td>0.0</td>\n      <td>0.0</td>\n      <td>NaN</td>\n    </tr>\n  </tbody>\n</table>\n</div>"
     },
     "metadata": {},
     "execution_count": 8
    }
   ],
   "source": [
    "train = train.loc[:, ['agency_name', 'inspector_name', 'state',\n",
    "                     'country', 'ticket_issued_date', 'hearing_date', 'disposition',\n",
    "                      'fine_amount', 'admin_fee', 'state_fee', 'late_fee',\n",
    "                     'discount_amount', 'judgment_amount', 'compliance']]\n",
    "train.head()"
   ]
  },
  {
   "cell_type": "code",
   "execution_count": 9,
   "metadata": {
    "collapsed": false
   },
   "outputs": [
    {
     "output_type": "stream",
     "name": "stdout",
     "text": "<class 'pandas.core.frame.DataFrame'>\nRangeIndex: 250306 entries, 0 to 250305\nData columns (total 14 columns):\n #   Column              Non-Null Count   Dtype  \n---  ------              --------------   -----  \n 0   agency_name         250306 non-null  object \n 1   inspector_name      250306 non-null  object \n 2   state               250213 non-null  object \n 3   country             250306 non-null  object \n 4   ticket_issued_date  250306 non-null  object \n 5   hearing_date        237815 non-null  object \n 6   disposition         250306 non-null  object \n 7   fine_amount         250305 non-null  float64\n 8   admin_fee           250306 non-null  float64\n 9   state_fee           250306 non-null  float64\n 10  late_fee            250306 non-null  float64\n 11  discount_amount     250306 non-null  float64\n 12  judgment_amount     250306 non-null  float64\n 13  compliance          159880 non-null  float64\ndtypes: float64(7), object(7)\nmemory usage: 26.7+ MB\n"
    }
   ],
   "source": [
    "train.info()"
   ]
  },
  {
   "cell_type": "markdown",
   "metadata": {},
   "source": [
    "## Data cleaning\n",
    "\n",
    "Drop rows with empty fields (I decided not to fill missing values during training)"
   ]
  },
  {
   "cell_type": "code",
   "execution_count": 10,
   "metadata": {
    "collapsed": false,
    "scrolled": true
   },
   "outputs": [
    {
     "output_type": "stream",
     "name": "stdout",
     "text": "<class 'pandas.core.frame.DataFrame'>\nInt64Index: 159569 entries, 0 to 250293\nData columns (total 14 columns):\n #   Column              Non-Null Count   Dtype  \n---  ------              --------------   -----  \n 0   agency_name         159569 non-null  object \n 1   inspector_name      159569 non-null  object \n 2   state               159569 non-null  object \n 3   country             159569 non-null  object \n 4   ticket_issued_date  159569 non-null  object \n 5   hearing_date        159569 non-null  object \n 6   disposition         159569 non-null  object \n 7   fine_amount         159569 non-null  float64\n 8   admin_fee           159569 non-null  float64\n 9   state_fee           159569 non-null  float64\n 10  late_fee            159569 non-null  float64\n 11  discount_amount     159569 non-null  float64\n 12  judgment_amount     159569 non-null  float64\n 13  compliance          159569 non-null  float64\ndtypes: float64(7), object(7)\nmemory usage: 18.3+ MB\n"
    }
   ],
   "source": [
    "train = train.dropna()\n",
    "train.info()"
   ]
  },
  {
   "cell_type": "markdown",
   "metadata": {},
   "source": [
    "Process string features. Steps include:\n",
    "- Convert all to lowercase\n",
    "- Use `sklearn.preprocessing.LabelEncoder` to encode string values to integer values"
   ]
  },
  {
   "cell_type": "code",
   "execution_count": 11,
   "metadata": {
    "collapsed": true
   },
   "outputs": [],
   "source": [
    "string_columns = ['agency_name', 'inspector_name', 'state', 'country', 'disposition']"
   ]
  },
  {
   "cell_type": "code",
   "execution_count": 12,
   "metadata": {
    "collapsed": false,
    "scrolled": true
   },
   "outputs": [
    {
     "output_type": "execute_result",
     "data": {
      "text/plain": "                                      agency_name    inspector_name state  \\\n0  buildings, safety engineering & env department   sims, martinzie    il   \n1  buildings, safety engineering & env department  williams, darrin    mi   \n5  buildings, safety engineering & env department   sims, martinzie    ca   \n6  buildings, safety engineering & env department  williams, darrin    mi   \n7  buildings, safety engineering & env department  williams, darrin    mi   \n\n  country   ticket_issued_date         hearing_date  \\\n0     usa  2004-03-16 11:40:00  2005-03-21 10:30:00   \n1     usa  2004-04-23 12:30:00  2005-05-06 13:30:00   \n5     usa  2004-05-01 11:50:00  2005-03-21 10:30:00   \n6     usa  2004-06-14 14:15:00  2005-02-22 15:00:00   \n7     usa  2004-06-16 12:30:00  2005-02-22 15:00:00   \n\n                    disposition  fine_amount  admin_fee  state_fee  late_fee  \\\n0        responsible by default        250.0       20.0       10.0      25.0   \n1  responsible by determination        750.0       20.0       10.0      75.0   \n5        responsible by default        250.0       20.0       10.0      25.0   \n6        responsible by default        750.0       20.0       10.0      75.0   \n7        responsible by default        100.0       20.0       10.0      10.0   \n\n   discount_amount  judgment_amount  compliance  \n0              0.0            305.0         0.0  \n1              0.0            855.0         1.0  \n5              0.0            305.0         0.0  \n6              0.0            855.0         0.0  \n7              0.0            140.0         0.0  ",
      "text/html": "<div>\n<style scoped>\n    .dataframe tbody tr th:only-of-type {\n        vertical-align: middle;\n    }\n\n    .dataframe tbody tr th {\n        vertical-align: top;\n    }\n\n    .dataframe thead th {\n        text-align: right;\n    }\n</style>\n<table border=\"1\" class=\"dataframe\">\n  <thead>\n    <tr style=\"text-align: right;\">\n      <th></th>\n      <th>agency_name</th>\n      <th>inspector_name</th>\n      <th>state</th>\n      <th>country</th>\n      <th>ticket_issued_date</th>\n      <th>hearing_date</th>\n      <th>disposition</th>\n      <th>fine_amount</th>\n      <th>admin_fee</th>\n      <th>state_fee</th>\n      <th>late_fee</th>\n      <th>discount_amount</th>\n      <th>judgment_amount</th>\n      <th>compliance</th>\n    </tr>\n  </thead>\n  <tbody>\n    <tr>\n      <th>0</th>\n      <td>buildings, safety engineering &amp; env department</td>\n      <td>sims, martinzie</td>\n      <td>il</td>\n      <td>usa</td>\n      <td>2004-03-16 11:40:00</td>\n      <td>2005-03-21 10:30:00</td>\n      <td>responsible by default</td>\n      <td>250.0</td>\n      <td>20.0</td>\n      <td>10.0</td>\n      <td>25.0</td>\n      <td>0.0</td>\n      <td>305.0</td>\n      <td>0.0</td>\n    </tr>\n    <tr>\n      <th>1</th>\n      <td>buildings, safety engineering &amp; env department</td>\n      <td>williams, darrin</td>\n      <td>mi</td>\n      <td>usa</td>\n      <td>2004-04-23 12:30:00</td>\n      <td>2005-05-06 13:30:00</td>\n      <td>responsible by determination</td>\n      <td>750.0</td>\n      <td>20.0</td>\n      <td>10.0</td>\n      <td>75.0</td>\n      <td>0.0</td>\n      <td>855.0</td>\n      <td>1.0</td>\n    </tr>\n    <tr>\n      <th>5</th>\n      <td>buildings, safety engineering &amp; env department</td>\n      <td>sims, martinzie</td>\n      <td>ca</td>\n      <td>usa</td>\n      <td>2004-05-01 11:50:00</td>\n      <td>2005-03-21 10:30:00</td>\n      <td>responsible by default</td>\n      <td>250.0</td>\n      <td>20.0</td>\n      <td>10.0</td>\n      <td>25.0</td>\n      <td>0.0</td>\n      <td>305.0</td>\n      <td>0.0</td>\n    </tr>\n    <tr>\n      <th>6</th>\n      <td>buildings, safety engineering &amp; env department</td>\n      <td>williams, darrin</td>\n      <td>mi</td>\n      <td>usa</td>\n      <td>2004-06-14 14:15:00</td>\n      <td>2005-02-22 15:00:00</td>\n      <td>responsible by default</td>\n      <td>750.0</td>\n      <td>20.0</td>\n      <td>10.0</td>\n      <td>75.0</td>\n      <td>0.0</td>\n      <td>855.0</td>\n      <td>0.0</td>\n    </tr>\n    <tr>\n      <th>7</th>\n      <td>buildings, safety engineering &amp; env department</td>\n      <td>williams, darrin</td>\n      <td>mi</td>\n      <td>usa</td>\n      <td>2004-06-16 12:30:00</td>\n      <td>2005-02-22 15:00:00</td>\n      <td>responsible by default</td>\n      <td>100.0</td>\n      <td>20.0</td>\n      <td>10.0</td>\n      <td>10.0</td>\n      <td>0.0</td>\n      <td>140.0</td>\n      <td>0.0</td>\n    </tr>\n  </tbody>\n</table>\n</div>"
     },
     "metadata": {},
     "execution_count": 12
    }
   ],
   "source": [
    "for column in string_columns:\n",
    "    train[column] = train[column].str.lower()\n",
    "train.head()"
   ]
  },
  {
   "cell_type": "code",
   "execution_count": 13,
   "metadata": {
    "collapsed": false
   },
   "outputs": [
    {
     "output_type": "stream",
     "name": "stdout",
     "text": "agency_name: 5\n['buildings, safety engineering & env department' 'health department'\n 'department of public works' 'detroit police department']\n\ninspector_name: 158\n['sims, martinzie' 'williams, darrin' 'jones, leah' 'gailes, orbie j']\n\nstate: 59\n['il' 'mi' 'ca' 'ny']\n\ncountry: 4\n['usa' 'cana' 'aust' 'germ']\n\ndisposition: 4\n['responsible by default' 'responsible by determination'\n 'responsible by admission' 'responsible (fine waived) by deter']\n\n"
    }
   ],
   "source": [
    "for column in string_columns:\n",
    "    num = train[column].nunique()\n",
    "    print('{}: {}'.format(column, num))\n",
    "    if num > 4:\n",
    "        print(train[column].unique()[:4])\n",
    "    else:\n",
    "        print(train[column].unique())\n",
    "    print()"
   ]
  },
  {
   "cell_type": "code",
   "execution_count": 14,
   "metadata": {},
   "outputs": [
    {
     "output_type": "execute_result",
     "data": {
      "text/plain": "   agency_name  inspector_name  state  country   ticket_issued_date  \\\n0            0             124     16        3  2004-03-16 11:40:00   \n1            0             152     24        3  2004-04-23 12:30:00   \n5            0             124      6        3  2004-05-01 11:50:00   \n6            0             152     24        3  2004-06-14 14:15:00   \n7            0             152     24        3  2004-06-16 12:30:00   \n\n          hearing_date  disposition  fine_amount  admin_fee  state_fee  \\\n0  2005-03-21 10:30:00            2        250.0       20.0       10.0   \n1  2005-05-06 13:30:00            3        750.0       20.0       10.0   \n5  2005-03-21 10:30:00            2        250.0       20.0       10.0   \n6  2005-02-22 15:00:00            2        750.0       20.0       10.0   \n7  2005-02-22 15:00:00            2        100.0       20.0       10.0   \n\n   late_fee  discount_amount  judgment_amount  compliance  \n0      25.0              0.0            305.0         0.0  \n1      75.0              0.0            855.0         1.0  \n5      25.0              0.0            305.0         0.0  \n6      75.0              0.0            855.0         0.0  \n7      10.0              0.0            140.0         0.0  ",
      "text/html": "<div>\n<style scoped>\n    .dataframe tbody tr th:only-of-type {\n        vertical-align: middle;\n    }\n\n    .dataframe tbody tr th {\n        vertical-align: top;\n    }\n\n    .dataframe thead th {\n        text-align: right;\n    }\n</style>\n<table border=\"1\" class=\"dataframe\">\n  <thead>\n    <tr style=\"text-align: right;\">\n      <th></th>\n      <th>agency_name</th>\n      <th>inspector_name</th>\n      <th>state</th>\n      <th>country</th>\n      <th>ticket_issued_date</th>\n      <th>hearing_date</th>\n      <th>disposition</th>\n      <th>fine_amount</th>\n      <th>admin_fee</th>\n      <th>state_fee</th>\n      <th>late_fee</th>\n      <th>discount_amount</th>\n      <th>judgment_amount</th>\n      <th>compliance</th>\n    </tr>\n  </thead>\n  <tbody>\n    <tr>\n      <th>0</th>\n      <td>0</td>\n      <td>124</td>\n      <td>16</td>\n      <td>3</td>\n      <td>2004-03-16 11:40:00</td>\n      <td>2005-03-21 10:30:00</td>\n      <td>2</td>\n      <td>250.0</td>\n      <td>20.0</td>\n      <td>10.0</td>\n      <td>25.0</td>\n      <td>0.0</td>\n      <td>305.0</td>\n      <td>0.0</td>\n    </tr>\n    <tr>\n      <th>1</th>\n      <td>0</td>\n      <td>152</td>\n      <td>24</td>\n      <td>3</td>\n      <td>2004-04-23 12:30:00</td>\n      <td>2005-05-06 13:30:00</td>\n      <td>3</td>\n      <td>750.0</td>\n      <td>20.0</td>\n      <td>10.0</td>\n      <td>75.0</td>\n      <td>0.0</td>\n      <td>855.0</td>\n      <td>1.0</td>\n    </tr>\n    <tr>\n      <th>5</th>\n      <td>0</td>\n      <td>124</td>\n      <td>6</td>\n      <td>3</td>\n      <td>2004-05-01 11:50:00</td>\n      <td>2005-03-21 10:30:00</td>\n      <td>2</td>\n      <td>250.0</td>\n      <td>20.0</td>\n      <td>10.0</td>\n      <td>25.0</td>\n      <td>0.0</td>\n      <td>305.0</td>\n      <td>0.0</td>\n    </tr>\n    <tr>\n      <th>6</th>\n      <td>0</td>\n      <td>152</td>\n      <td>24</td>\n      <td>3</td>\n      <td>2004-06-14 14:15:00</td>\n      <td>2005-02-22 15:00:00</td>\n      <td>2</td>\n      <td>750.0</td>\n      <td>20.0</td>\n      <td>10.0</td>\n      <td>75.0</td>\n      <td>0.0</td>\n      <td>855.0</td>\n      <td>0.0</td>\n    </tr>\n    <tr>\n      <th>7</th>\n      <td>0</td>\n      <td>152</td>\n      <td>24</td>\n      <td>3</td>\n      <td>2004-06-16 12:30:00</td>\n      <td>2005-02-22 15:00:00</td>\n      <td>2</td>\n      <td>100.0</td>\n      <td>20.0</td>\n      <td>10.0</td>\n      <td>10.0</td>\n      <td>0.0</td>\n      <td>140.0</td>\n      <td>0.0</td>\n    </tr>\n  </tbody>\n</table>\n</div>"
     },
     "metadata": {},
     "execution_count": 14
    }
   ],
   "source": [
    "from sklearn.preprocessing import LabelEncoder\n",
    "str_dict = {}\n",
    "for column in string_columns:\n",
    "    str_dict[column] = LabelEncoder()\n",
    "    str_dict[column].fit(train[column])\n",
    "    train[column] = str_dict[column].transform(train[column])\n",
    "\n",
    "train.head()"
   ]
  },
  {
   "cell_type": "code",
   "execution_count": 15,
   "metadata": {},
   "outputs": [
    {
     "output_type": "stream",
     "name": "stdout",
     "text": "<class 'pandas.core.frame.DataFrame'>\nInt64Index: 159569 entries, 0 to 250293\nData columns (total 14 columns):\n #   Column              Non-Null Count   Dtype  \n---  ------              --------------   -----  \n 0   agency_name         159569 non-null  int32  \n 1   inspector_name      159569 non-null  int32  \n 2   state               159569 non-null  int32  \n 3   country             159569 non-null  int32  \n 4   ticket_issued_date  159569 non-null  object \n 5   hearing_date        159569 non-null  object \n 6   disposition         159569 non-null  int32  \n 7   fine_amount         159569 non-null  float64\n 8   admin_fee           159569 non-null  float64\n 9   state_fee           159569 non-null  float64\n 10  late_fee            159569 non-null  float64\n 11  discount_amount     159569 non-null  float64\n 12  judgment_amount     159569 non-null  float64\n 13  compliance          159569 non-null  float64\ndtypes: float64(7), int32(5), object(2)\nmemory usage: 15.2+ MB\n"
    }
   ],
   "source": [
    "train.info()"
   ]
  },
  {
   "cell_type": "markdown",
   "metadata": {},
   "source": [
    "Process date values. It can be said that `time_difference` is an engineered feature. `ticket_issued_date` and `hearing_date` are removed"
   ]
  },
  {
   "cell_type": "code",
   "execution_count": 16,
   "metadata": {
    "collapsed": false
   },
   "outputs": [
    {
     "output_type": "execute_result",
     "data": {
      "text/plain": "   agency_name  inspector_name  state  country  ticket_issued_date  \\\n0            0             124     16        3 2004-03-16 11:40:00   \n1            0             152     24        3 2004-04-23 12:30:00   \n5            0             124      6        3 2004-05-01 11:50:00   \n6            0             152     24        3 2004-06-14 14:15:00   \n7            0             152     24        3 2004-06-16 12:30:00   \n\n         hearing_date  disposition  fine_amount  admin_fee  state_fee  \\\n0 2005-03-21 10:30:00            2        250.0       20.0       10.0   \n1 2005-05-06 13:30:00            3        750.0       20.0       10.0   \n5 2005-03-21 10:30:00            2        250.0       20.0       10.0   \n6 2005-02-22 15:00:00            2        750.0       20.0       10.0   \n7 2005-02-22 15:00:00            2        100.0       20.0       10.0   \n\n   late_fee  discount_amount  judgment_amount  compliance   time_difference  \n0      25.0              0.0            305.0         0.0 369 days 22:50:00  \n1      75.0              0.0            855.0         1.0 378 days 01:00:00  \n5      25.0              0.0            305.0         0.0 323 days 22:40:00  \n6      75.0              0.0            855.0         0.0 253 days 00:45:00  \n7      10.0              0.0            140.0         0.0 251 days 02:30:00  ",
      "text/html": "<div>\n<style scoped>\n    .dataframe tbody tr th:only-of-type {\n        vertical-align: middle;\n    }\n\n    .dataframe tbody tr th {\n        vertical-align: top;\n    }\n\n    .dataframe thead th {\n        text-align: right;\n    }\n</style>\n<table border=\"1\" class=\"dataframe\">\n  <thead>\n    <tr style=\"text-align: right;\">\n      <th></th>\n      <th>agency_name</th>\n      <th>inspector_name</th>\n      <th>state</th>\n      <th>country</th>\n      <th>ticket_issued_date</th>\n      <th>hearing_date</th>\n      <th>disposition</th>\n      <th>fine_amount</th>\n      <th>admin_fee</th>\n      <th>state_fee</th>\n      <th>late_fee</th>\n      <th>discount_amount</th>\n      <th>judgment_amount</th>\n      <th>compliance</th>\n      <th>time_difference</th>\n    </tr>\n  </thead>\n  <tbody>\n    <tr>\n      <th>0</th>\n      <td>0</td>\n      <td>124</td>\n      <td>16</td>\n      <td>3</td>\n      <td>2004-03-16 11:40:00</td>\n      <td>2005-03-21 10:30:00</td>\n      <td>2</td>\n      <td>250.0</td>\n      <td>20.0</td>\n      <td>10.0</td>\n      <td>25.0</td>\n      <td>0.0</td>\n      <td>305.0</td>\n      <td>0.0</td>\n      <td>369 days 22:50:00</td>\n    </tr>\n    <tr>\n      <th>1</th>\n      <td>0</td>\n      <td>152</td>\n      <td>24</td>\n      <td>3</td>\n      <td>2004-04-23 12:30:00</td>\n      <td>2005-05-06 13:30:00</td>\n      <td>3</td>\n      <td>750.0</td>\n      <td>20.0</td>\n      <td>10.0</td>\n      <td>75.0</td>\n      <td>0.0</td>\n      <td>855.0</td>\n      <td>1.0</td>\n      <td>378 days 01:00:00</td>\n    </tr>\n    <tr>\n      <th>5</th>\n      <td>0</td>\n      <td>124</td>\n      <td>6</td>\n      <td>3</td>\n      <td>2004-05-01 11:50:00</td>\n      <td>2005-03-21 10:30:00</td>\n      <td>2</td>\n      <td>250.0</td>\n      <td>20.0</td>\n      <td>10.0</td>\n      <td>25.0</td>\n      <td>0.0</td>\n      <td>305.0</td>\n      <td>0.0</td>\n      <td>323 days 22:40:00</td>\n    </tr>\n    <tr>\n      <th>6</th>\n      <td>0</td>\n      <td>152</td>\n      <td>24</td>\n      <td>3</td>\n      <td>2004-06-14 14:15:00</td>\n      <td>2005-02-22 15:00:00</td>\n      <td>2</td>\n      <td>750.0</td>\n      <td>20.0</td>\n      <td>10.0</td>\n      <td>75.0</td>\n      <td>0.0</td>\n      <td>855.0</td>\n      <td>0.0</td>\n      <td>253 days 00:45:00</td>\n    </tr>\n    <tr>\n      <th>7</th>\n      <td>0</td>\n      <td>152</td>\n      <td>24</td>\n      <td>3</td>\n      <td>2004-06-16 12:30:00</td>\n      <td>2005-02-22 15:00:00</td>\n      <td>2</td>\n      <td>100.0</td>\n      <td>20.0</td>\n      <td>10.0</td>\n      <td>10.0</td>\n      <td>0.0</td>\n      <td>140.0</td>\n      <td>0.0</td>\n      <td>251 days 02:30:00</td>\n    </tr>\n  </tbody>\n</table>\n</div>"
     },
     "metadata": {},
     "execution_count": 16
    }
   ],
   "source": [
    "train['ticket_issued_date'] = pd.to_datetime(train['ticket_issued_date'])\n",
    "train['hearing_date'] = pd.to_datetime(train['hearing_date'])\n",
    "train['time_difference'] = train['hearing_date'] - train['ticket_issued_date']\n",
    "train.head()"
   ]
  },
  {
   "cell_type": "code",
   "execution_count": 17,
   "metadata": {
    "collapsed": false
   },
   "outputs": [
    {
     "output_type": "execute_result",
     "data": {
      "text/plain": "   agency_name  inspector_name  state  country  disposition  fine_amount  \\\n0            0             124     16        3            2        250.0   \n1            0             152     24        3            3        750.0   \n5            0             124      6        3            2        250.0   \n6            0             152     24        3            2        750.0   \n7            0             152     24        3            2        100.0   \n\n   admin_fee  state_fee  late_fee  discount_amount  judgment_amount  \\\n0       20.0       10.0      25.0              0.0            305.0   \n1       20.0       10.0      75.0              0.0            855.0   \n5       20.0       10.0      25.0              0.0            305.0   \n6       20.0       10.0      75.0              0.0            855.0   \n7       20.0       10.0      10.0              0.0            140.0   \n\n   compliance  time_difference  \n0         0.0              369  \n1         1.0              378  \n5         0.0              323  \n6         0.0              253  \n7         0.0              251  ",
      "text/html": "<div>\n<style scoped>\n    .dataframe tbody tr th:only-of-type {\n        vertical-align: middle;\n    }\n\n    .dataframe tbody tr th {\n        vertical-align: top;\n    }\n\n    .dataframe thead th {\n        text-align: right;\n    }\n</style>\n<table border=\"1\" class=\"dataframe\">\n  <thead>\n    <tr style=\"text-align: right;\">\n      <th></th>\n      <th>agency_name</th>\n      <th>inspector_name</th>\n      <th>state</th>\n      <th>country</th>\n      <th>disposition</th>\n      <th>fine_amount</th>\n      <th>admin_fee</th>\n      <th>state_fee</th>\n      <th>late_fee</th>\n      <th>discount_amount</th>\n      <th>judgment_amount</th>\n      <th>compliance</th>\n      <th>time_difference</th>\n    </tr>\n  </thead>\n  <tbody>\n    <tr>\n      <th>0</th>\n      <td>0</td>\n      <td>124</td>\n      <td>16</td>\n      <td>3</td>\n      <td>2</td>\n      <td>250.0</td>\n      <td>20.0</td>\n      <td>10.0</td>\n      <td>25.0</td>\n      <td>0.0</td>\n      <td>305.0</td>\n      <td>0.0</td>\n      <td>369</td>\n    </tr>\n    <tr>\n      <th>1</th>\n      <td>0</td>\n      <td>152</td>\n      <td>24</td>\n      <td>3</td>\n      <td>3</td>\n      <td>750.0</td>\n      <td>20.0</td>\n      <td>10.0</td>\n      <td>75.0</td>\n      <td>0.0</td>\n      <td>855.0</td>\n      <td>1.0</td>\n      <td>378</td>\n    </tr>\n    <tr>\n      <th>5</th>\n      <td>0</td>\n      <td>124</td>\n      <td>6</td>\n      <td>3</td>\n      <td>2</td>\n      <td>250.0</td>\n      <td>20.0</td>\n      <td>10.0</td>\n      <td>25.0</td>\n      <td>0.0</td>\n      <td>305.0</td>\n      <td>0.0</td>\n      <td>323</td>\n    </tr>\n    <tr>\n      <th>6</th>\n      <td>0</td>\n      <td>152</td>\n      <td>24</td>\n      <td>3</td>\n      <td>2</td>\n      <td>750.0</td>\n      <td>20.0</td>\n      <td>10.0</td>\n      <td>75.0</td>\n      <td>0.0</td>\n      <td>855.0</td>\n      <td>0.0</td>\n      <td>253</td>\n    </tr>\n    <tr>\n      <th>7</th>\n      <td>0</td>\n      <td>152</td>\n      <td>24</td>\n      <td>3</td>\n      <td>2</td>\n      <td>100.0</td>\n      <td>20.0</td>\n      <td>10.0</td>\n      <td>10.0</td>\n      <td>0.0</td>\n      <td>140.0</td>\n      <td>0.0</td>\n      <td>251</td>\n    </tr>\n  </tbody>\n</table>\n</div>"
     },
     "metadata": {},
     "execution_count": 17
    }
   ],
   "source": [
    "train['time_difference'] = train['time_difference'].dt.days\n",
    "del train['ticket_issued_date']\n",
    "del train['hearing_date']\n",
    "train.head()"
   ]
  },
  {
   "cell_type": "code",
   "execution_count": 18,
   "metadata": {
    "collapsed": false
   },
   "outputs": [
    {
     "output_type": "execute_result",
     "data": {
      "text/plain": "agency_name          5\ninspector_name     158\nstate               59\ncountry              4\ndisposition          4\nfine_amount         40\nadmin_fee            1\nstate_fee            1\nlate_fee            37\ndiscount_amount     12\njudgment_amount     57\ncompliance           2\ntime_difference    582\ndtype: int64"
     },
     "metadata": {},
     "execution_count": 18
    }
   ],
   "source": [
    "train.nunique()"
   ]
  },
  {
   "cell_type": "code",
   "execution_count": 19,
   "metadata": {},
   "outputs": [
    {
     "output_type": "stream",
     "name": "stdout",
     "text": "<class 'pandas.core.frame.DataFrame'>\nInt64Index: 159569 entries, 0 to 250293\nData columns (total 13 columns):\n #   Column           Non-Null Count   Dtype  \n---  ------           --------------   -----  \n 0   agency_name      159569 non-null  int32  \n 1   inspector_name   159569 non-null  int32  \n 2   state            159569 non-null  int32  \n 3   country          159569 non-null  int32  \n 4   disposition      159569 non-null  int32  \n 5   fine_amount      159569 non-null  float64\n 6   admin_fee        159569 non-null  float64\n 7   state_fee        159569 non-null  float64\n 8   late_fee         159569 non-null  float64\n 9   discount_amount  159569 non-null  float64\n 10  judgment_amount  159569 non-null  float64\n 11  compliance       159569 non-null  float64\n 12  time_difference  159569 non-null  int64  \ndtypes: float64(7), int32(5), int64(1)\nmemory usage: 14.0 MB\n"
    }
   ],
   "source": [
    "train.info()"
   ]
  },
  {
   "cell_type": "markdown",
   "metadata": {},
   "source": [
    "## Training an ML model\n",
    "\n",
    "Model chosen: Random Forest from `sklearn.ensemble.RandomForestClassifier`\n",
    "\n",
    "Use `sklearn.model_selection.GridSearchCV` to select the best parameters. Tuning parameters include number of trees `n_estimators` and number of subset features to be considered in each tree `max_features`"
   ]
  },
  {
   "cell_type": "code",
   "execution_count": 20,
   "metadata": {},
   "outputs": [],
   "source": [
    "from sklearn.ensemble import RandomForestClassifier\n",
    "from sklearn.model_selection import GridSearchCV\n",
    "\n",
    "grid = GridSearchCV(RandomForestClassifier(), param_grid={'n_estimators': [10, 30, 100], 'max_features': [1, 2, 4]}, scoring='roc_auc')"
   ]
  },
  {
   "cell_type": "code",
   "execution_count": 21,
   "metadata": {},
   "outputs": [
    {
     "output_type": "execute_result",
     "data": {
      "text/plain": "   agency_name  inspector_name  state  country  disposition  fine_amount  \\\n0            0             124     16        3            2        250.0   \n1            0             152     24        3            3        750.0   \n5            0             124      6        3            2        250.0   \n6            0             152     24        3            2        750.0   \n7            0             152     24        3            2        100.0   \n\n   admin_fee  state_fee  late_fee  discount_amount  judgment_amount  \\\n0       20.0       10.0      25.0              0.0            305.0   \n1       20.0       10.0      75.0              0.0            855.0   \n5       20.0       10.0      25.0              0.0            305.0   \n6       20.0       10.0      75.0              0.0            855.0   \n7       20.0       10.0      10.0              0.0            140.0   \n\n   time_difference  \n0              369  \n1              378  \n5              323  \n6              253  \n7              251  ",
      "text/html": "<div>\n<style scoped>\n    .dataframe tbody tr th:only-of-type {\n        vertical-align: middle;\n    }\n\n    .dataframe tbody tr th {\n        vertical-align: top;\n    }\n\n    .dataframe thead th {\n        text-align: right;\n    }\n</style>\n<table border=\"1\" class=\"dataframe\">\n  <thead>\n    <tr style=\"text-align: right;\">\n      <th></th>\n      <th>agency_name</th>\n      <th>inspector_name</th>\n      <th>state</th>\n      <th>country</th>\n      <th>disposition</th>\n      <th>fine_amount</th>\n      <th>admin_fee</th>\n      <th>state_fee</th>\n      <th>late_fee</th>\n      <th>discount_amount</th>\n      <th>judgment_amount</th>\n      <th>time_difference</th>\n    </tr>\n  </thead>\n  <tbody>\n    <tr>\n      <th>0</th>\n      <td>0</td>\n      <td>124</td>\n      <td>16</td>\n      <td>3</td>\n      <td>2</td>\n      <td>250.0</td>\n      <td>20.0</td>\n      <td>10.0</td>\n      <td>25.0</td>\n      <td>0.0</td>\n      <td>305.0</td>\n      <td>369</td>\n    </tr>\n    <tr>\n      <th>1</th>\n      <td>0</td>\n      <td>152</td>\n      <td>24</td>\n      <td>3</td>\n      <td>3</td>\n      <td>750.0</td>\n      <td>20.0</td>\n      <td>10.0</td>\n      <td>75.0</td>\n      <td>0.0</td>\n      <td>855.0</td>\n      <td>378</td>\n    </tr>\n    <tr>\n      <th>5</th>\n      <td>0</td>\n      <td>124</td>\n      <td>6</td>\n      <td>3</td>\n      <td>2</td>\n      <td>250.0</td>\n      <td>20.0</td>\n      <td>10.0</td>\n      <td>25.0</td>\n      <td>0.0</td>\n      <td>305.0</td>\n      <td>323</td>\n    </tr>\n    <tr>\n      <th>6</th>\n      <td>0</td>\n      <td>152</td>\n      <td>24</td>\n      <td>3</td>\n      <td>2</td>\n      <td>750.0</td>\n      <td>20.0</td>\n      <td>10.0</td>\n      <td>75.0</td>\n      <td>0.0</td>\n      <td>855.0</td>\n      <td>253</td>\n    </tr>\n    <tr>\n      <th>7</th>\n      <td>0</td>\n      <td>152</td>\n      <td>24</td>\n      <td>3</td>\n      <td>2</td>\n      <td>100.0</td>\n      <td>20.0</td>\n      <td>10.0</td>\n      <td>10.0</td>\n      <td>0.0</td>\n      <td>140.0</td>\n      <td>251</td>\n    </tr>\n  </tbody>\n</table>\n</div>"
     },
     "metadata": {},
     "execution_count": 21
    }
   ],
   "source": [
    "X_train = train.iloc[:,:-2]\n",
    "X_train['time_difference'] = train.iloc[:,-1]\n",
    "y_train = train.iloc[:,-2]\n",
    "X_train.head()"
   ]
  },
  {
   "cell_type": "code",
   "execution_count": 22,
   "metadata": {
    "collapsed": true
   },
   "outputs": [
    {
     "output_type": "execute_result",
     "data": {
      "text/plain": "GridSearchCV(cv=None, error_score=nan,\n             estimator=RandomForestClassifier(bootstrap=True, ccp_alpha=0.0,\n                                              class_weight=None,\n                                              criterion='gini', max_depth=None,\n                                              max_features='auto',\n                                              max_leaf_nodes=None,\n                                              max_samples=None,\n                                              min_impurity_decrease=0.0,\n                                              min_impurity_split=None,\n                                              min_samples_leaf=1,\n                                              min_samples_split=2,\n                                              min_weight_fraction_leaf=0.0,\n                                              n_estimators=100, n_jobs=None,\n                                              oob_score=False,\n                                              random_state=None, verbose=0,\n                                              warm_start=False),\n             iid='deprecated', n_jobs=None,\n             param_grid={'max_features': [1, 2, 4],\n                         'n_estimators': [10, 30, 100]},\n             pre_dispatch='2*n_jobs', refit=True, return_train_score=False,\n             scoring='roc_auc', verbose=0)"
     },
     "metadata": {},
     "execution_count": 22
    }
   ],
   "source": [
    "grid.fit(X_train, y_train)"
   ]
  },
  {
   "cell_type": "markdown",
   "metadata": {},
   "source": [
    "## `test.csv`\n",
    "\n",
    "Import and prepare `test.csv` exactly the same as how `train.csv` was processed. Use the same transformation"
   ]
  },
  {
   "cell_type": "code",
   "execution_count": 23,
   "metadata": {},
   "outputs": [
    {
     "output_type": "execute_result",
     "data": {
      "text/plain": "   ticket_id                 agency_name      inspector_name  \\\n0     284932  Department of Public Works  Granberry, Aisha B   \n1     285362  Department of Public Works      Lusk, Gertrina   \n2     285361  Department of Public Works      Lusk, Gertrina   \n3     285338  Department of Public Works   Talbert, Reginald   \n4     285346  Department of Public Works   Talbert, Reginald   \n\n        violator_name  violation_street_number violation_street_name  \\\n0    FLUELLEN, JOHN A                  10041.0             ROSEBERRY   \n1     WHIGHAM, THELMA                  18520.0             EVERGREEN   \n2     WHIGHAM, THELMA                  18520.0             EVERGREEN   \n3  HARABEDIEN, POPKIN                   1835.0               CENTRAL   \n4    CORBELL, STANLEY                   1700.0               CENTRAL   \n\n  violation_zip_code mailing_address_str_number mailing_address_str_name  \\\n0                NaN                        141                ROSEBERRY   \n1                NaN                      19136              GLASTONBURY   \n2                NaN                      19136              GLASTONBURY   \n3                NaN                       2246                   NELSON   \n4                NaN                       3435                   MUNGER   \n\n        city  ...                              violation_description  \\\n0    DETROIT  ...  Failure to secure City or Private solid waste ...   \n1    DETROIT  ...  Allowing bulk solid waste to lie or accumulate...   \n2    DETROIT  ...  Improper placement of Courville container betw...   \n3  WOODHAVEN  ...  Allowing bulk solid waste to lie or accumulate...   \n4    LIVONIA  ...  Violation of time limit for approved container...   \n\n              disposition  fine_amount admin_fee state_fee late_fee  \\\n0  Responsible by Default        200.0      20.0      10.0     20.0   \n1  Responsible by Default       1000.0      20.0      10.0    100.0   \n2  Responsible by Default        100.0      20.0      10.0     10.0   \n3  Responsible by Default        200.0      20.0      10.0     20.0   \n4  Responsible by Default        100.0      20.0      10.0     10.0   \n\n  discount_amount clean_up_cost judgment_amount  grafitti_status  \n0             0.0           0.0           250.0              NaN  \n1             0.0           0.0          1130.0              NaN  \n2             0.0           0.0           140.0              NaN  \n3             0.0           0.0           250.0              NaN  \n4             0.0           0.0           140.0              NaN  \n\n[5 rows x 27 columns]",
      "text/html": "<div>\n<style scoped>\n    .dataframe tbody tr th:only-of-type {\n        vertical-align: middle;\n    }\n\n    .dataframe tbody tr th {\n        vertical-align: top;\n    }\n\n    .dataframe thead th {\n        text-align: right;\n    }\n</style>\n<table border=\"1\" class=\"dataframe\">\n  <thead>\n    <tr style=\"text-align: right;\">\n      <th></th>\n      <th>ticket_id</th>\n      <th>agency_name</th>\n      <th>inspector_name</th>\n      <th>violator_name</th>\n      <th>violation_street_number</th>\n      <th>violation_street_name</th>\n      <th>violation_zip_code</th>\n      <th>mailing_address_str_number</th>\n      <th>mailing_address_str_name</th>\n      <th>city</th>\n      <th>...</th>\n      <th>violation_description</th>\n      <th>disposition</th>\n      <th>fine_amount</th>\n      <th>admin_fee</th>\n      <th>state_fee</th>\n      <th>late_fee</th>\n      <th>discount_amount</th>\n      <th>clean_up_cost</th>\n      <th>judgment_amount</th>\n      <th>grafitti_status</th>\n    </tr>\n  </thead>\n  <tbody>\n    <tr>\n      <th>0</th>\n      <td>284932</td>\n      <td>Department of Public Works</td>\n      <td>Granberry, Aisha B</td>\n      <td>FLUELLEN, JOHN A</td>\n      <td>10041.0</td>\n      <td>ROSEBERRY</td>\n      <td>NaN</td>\n      <td>141</td>\n      <td>ROSEBERRY</td>\n      <td>DETROIT</td>\n      <td>...</td>\n      <td>Failure to secure City or Private solid waste ...</td>\n      <td>Responsible by Default</td>\n      <td>200.0</td>\n      <td>20.0</td>\n      <td>10.0</td>\n      <td>20.0</td>\n      <td>0.0</td>\n      <td>0.0</td>\n      <td>250.0</td>\n      <td>NaN</td>\n    </tr>\n    <tr>\n      <th>1</th>\n      <td>285362</td>\n      <td>Department of Public Works</td>\n      <td>Lusk, Gertrina</td>\n      <td>WHIGHAM, THELMA</td>\n      <td>18520.0</td>\n      <td>EVERGREEN</td>\n      <td>NaN</td>\n      <td>19136</td>\n      <td>GLASTONBURY</td>\n      <td>DETROIT</td>\n      <td>...</td>\n      <td>Allowing bulk solid waste to lie or accumulate...</td>\n      <td>Responsible by Default</td>\n      <td>1000.0</td>\n      <td>20.0</td>\n      <td>10.0</td>\n      <td>100.0</td>\n      <td>0.0</td>\n      <td>0.0</td>\n      <td>1130.0</td>\n      <td>NaN</td>\n    </tr>\n    <tr>\n      <th>2</th>\n      <td>285361</td>\n      <td>Department of Public Works</td>\n      <td>Lusk, Gertrina</td>\n      <td>WHIGHAM, THELMA</td>\n      <td>18520.0</td>\n      <td>EVERGREEN</td>\n      <td>NaN</td>\n      <td>19136</td>\n      <td>GLASTONBURY</td>\n      <td>DETROIT</td>\n      <td>...</td>\n      <td>Improper placement of Courville container betw...</td>\n      <td>Responsible by Default</td>\n      <td>100.0</td>\n      <td>20.0</td>\n      <td>10.0</td>\n      <td>10.0</td>\n      <td>0.0</td>\n      <td>0.0</td>\n      <td>140.0</td>\n      <td>NaN</td>\n    </tr>\n    <tr>\n      <th>3</th>\n      <td>285338</td>\n      <td>Department of Public Works</td>\n      <td>Talbert, Reginald</td>\n      <td>HARABEDIEN, POPKIN</td>\n      <td>1835.0</td>\n      <td>CENTRAL</td>\n      <td>NaN</td>\n      <td>2246</td>\n      <td>NELSON</td>\n      <td>WOODHAVEN</td>\n      <td>...</td>\n      <td>Allowing bulk solid waste to lie or accumulate...</td>\n      <td>Responsible by Default</td>\n      <td>200.0</td>\n      <td>20.0</td>\n      <td>10.0</td>\n      <td>20.0</td>\n      <td>0.0</td>\n      <td>0.0</td>\n      <td>250.0</td>\n      <td>NaN</td>\n    </tr>\n    <tr>\n      <th>4</th>\n      <td>285346</td>\n      <td>Department of Public Works</td>\n      <td>Talbert, Reginald</td>\n      <td>CORBELL, STANLEY</td>\n      <td>1700.0</td>\n      <td>CENTRAL</td>\n      <td>NaN</td>\n      <td>3435</td>\n      <td>MUNGER</td>\n      <td>LIVONIA</td>\n      <td>...</td>\n      <td>Violation of time limit for approved container...</td>\n      <td>Responsible by Default</td>\n      <td>100.0</td>\n      <td>20.0</td>\n      <td>10.0</td>\n      <td>10.0</td>\n      <td>0.0</td>\n      <td>0.0</td>\n      <td>140.0</td>\n      <td>NaN</td>\n    </tr>\n  </tbody>\n</table>\n<p>5 rows × 27 columns</p>\n</div>"
     },
     "metadata": {},
     "execution_count": 23
    }
   ],
   "source": [
    "test_raw = pd.read_csv('test.csv')\n",
    "test_raw.head()"
   ]
  },
  {
   "cell_type": "code",
   "execution_count": 24,
   "metadata": {},
   "outputs": [],
   "source": [
    "test = test_raw.copy()"
   ]
  },
  {
   "cell_type": "code",
   "execution_count": 25,
   "metadata": {},
   "outputs": [
    {
     "output_type": "execute_result",
     "data": {
      "text/plain": "   agency_name  inspector_name  state  country  disposition  fine_amount  \\\n0            1              51     24        3            2        200.0   \n1            1              74     24        3            2       1000.0   \n2            1              74     24        3            2        100.0   \n3            1             137     24        3            2        200.0   \n4            1             137     24        3            2        100.0   \n\n   admin_fee  state_fee  late_fee  discount_amount  judgment_amount  \\\n0       20.0       10.0      20.0              0.0            250.0   \n1       20.0       10.0     100.0              0.0           1130.0   \n2       20.0       10.0      10.0              0.0            140.0   \n3       20.0       10.0      20.0              0.0            250.0   \n4       20.0       10.0      10.0              0.0            140.0   \n\n   time_difference  \n0               14  \n1               31  \n2               31  \n3               32  \n4               39  ",
      "text/html": "<div>\n<style scoped>\n    .dataframe tbody tr th:only-of-type {\n        vertical-align: middle;\n    }\n\n    .dataframe tbody tr th {\n        vertical-align: top;\n    }\n\n    .dataframe thead th {\n        text-align: right;\n    }\n</style>\n<table border=\"1\" class=\"dataframe\">\n  <thead>\n    <tr style=\"text-align: right;\">\n      <th></th>\n      <th>agency_name</th>\n      <th>inspector_name</th>\n      <th>state</th>\n      <th>country</th>\n      <th>disposition</th>\n      <th>fine_amount</th>\n      <th>admin_fee</th>\n      <th>state_fee</th>\n      <th>late_fee</th>\n      <th>discount_amount</th>\n      <th>judgment_amount</th>\n      <th>time_difference</th>\n    </tr>\n  </thead>\n  <tbody>\n    <tr>\n      <th>0</th>\n      <td>1</td>\n      <td>51</td>\n      <td>24</td>\n      <td>3</td>\n      <td>2</td>\n      <td>200.0</td>\n      <td>20.0</td>\n      <td>10.0</td>\n      <td>20.0</td>\n      <td>0.0</td>\n      <td>250.0</td>\n      <td>14</td>\n    </tr>\n    <tr>\n      <th>1</th>\n      <td>1</td>\n      <td>74</td>\n      <td>24</td>\n      <td>3</td>\n      <td>2</td>\n      <td>1000.0</td>\n      <td>20.0</td>\n      <td>10.0</td>\n      <td>100.0</td>\n      <td>0.0</td>\n      <td>1130.0</td>\n      <td>31</td>\n    </tr>\n    <tr>\n      <th>2</th>\n      <td>1</td>\n      <td>74</td>\n      <td>24</td>\n      <td>3</td>\n      <td>2</td>\n      <td>100.0</td>\n      <td>20.0</td>\n      <td>10.0</td>\n      <td>10.0</td>\n      <td>0.0</td>\n      <td>140.0</td>\n      <td>31</td>\n    </tr>\n    <tr>\n      <th>3</th>\n      <td>1</td>\n      <td>137</td>\n      <td>24</td>\n      <td>3</td>\n      <td>2</td>\n      <td>200.0</td>\n      <td>20.0</td>\n      <td>10.0</td>\n      <td>20.0</td>\n      <td>0.0</td>\n      <td>250.0</td>\n      <td>32</td>\n    </tr>\n    <tr>\n      <th>4</th>\n      <td>1</td>\n      <td>137</td>\n      <td>24</td>\n      <td>3</td>\n      <td>2</td>\n      <td>100.0</td>\n      <td>20.0</td>\n      <td>10.0</td>\n      <td>10.0</td>\n      <td>0.0</td>\n      <td>140.0</td>\n      <td>39</td>\n    </tr>\n  </tbody>\n</table>\n</div>"
     },
     "metadata": {},
     "execution_count": 25
    }
   ],
   "source": [
    "test = test.loc[:, ['agency_name', 'inspector_name', 'state',\n",
    "                     'country', 'ticket_issued_date', 'hearing_date', 'disposition',\n",
    "                      'fine_amount', 'admin_fee', 'state_fee', 'late_fee',\n",
    "                     'discount_amount', 'judgment_amount']]\n",
    "test = test.fillna(0)\n",
    "for column in string_columns:\n",
    "    test[column] = test[column].str.lower()\n",
    "test['ticket_issued_date'] = pd.to_datetime(test['ticket_issued_date'])\n",
    "test['hearing_date'] = pd.to_datetime(test['hearing_date'])\n",
    "test['time_difference'] = test['hearing_date'] - test['ticket_issued_date']\n",
    "test['time_difference'] = test['time_difference'].dt.days\n",
    "del test['ticket_issued_date']\n",
    "del test['hearing_date']\n",
    "\n",
    "\n",
    "for column in string_columns:\n",
    "    le_dict = dict(zip(str_dict[column].classes_, str_dict[column].transform(str_dict[column].classes_)))\n",
    "    test[column] = test[column].apply(lambda x: le_dict.get(x, -1))\n",
    "\n",
    "test.head()"
   ]
  },
  {
   "cell_type": "code",
   "execution_count": 26,
   "metadata": {},
   "outputs": [
    {
     "output_type": "execute_result",
     "data": {
      "text/plain": "ticket_id\n284932    0.029104\n285362    0.000000\n285361    0.222343\n285338    0.580000\n285346    0.054595\nName: 1, dtype: float64"
     },
     "metadata": {},
     "execution_count": 26
    }
   ],
   "source": [
    "output = pd.DataFrame(grid.predict_proba(test))\n",
    "output = pd.merge(output[1], test_raw['ticket_id'], left_index=True, right_index=True)\n",
    "output = output.set_index('ticket_id')\n",
    "output = output[1]\n",
    "output.head()"
   ]
  },
  {
   "cell_type": "markdown",
   "metadata": {},
   "source": [
    "## Final output"
   ]
  },
  {
   "cell_type": "code",
   "execution_count": 27,
   "metadata": {},
   "outputs": [
    {
     "output_type": "execute_result",
     "data": {
      "text/plain": "ticket_id\n284932    0.029104\n285362    0.000000\n285361    0.222343\n285338    0.580000\n285346    0.054595\nName: 1, dtype: float64"
     },
     "metadata": {},
     "execution_count": 27
    }
   ],
   "source": [
    "output.head()"
   ]
  },
  {
   "cell_type": "markdown",
   "metadata": {},
   "source": [
    "## Coursera submission\n",
    "\n",
    "Function for Coursera submission"
   ]
  },
  {
   "cell_type": "code",
   "execution_count": 28,
   "metadata": {
    "collapsed": true
   },
   "outputs": [],
   "source": [
    "def blight_model():\n",
    "    \n",
    "    # Your code here\n",
    "    from sklearn.ensemble import RandomForestClassifier\n",
    "    from sklearn.model_selection import GridSearchCV\n",
    "    from sklearn.preprocessing import LabelEncoder\n",
    "\n",
    "\n",
    "    train = pd.read_csv('train.csv', engine='python')\n",
    "    test = pd.read_csv('test.csv')\n",
    "\n",
    "    train = train.loc[:, ['agency_name', 'inspector_name', 'state',\n",
    "                                  'country', 'ticket_issued_date', 'hearing_date', 'disposition',\n",
    "                                  'fine_amount', 'admin_fee', 'state_fee', 'late_fee',\n",
    "                                  'discount_amount', 'judgment_amount', 'compliance']]\n",
    "    train = train.dropna()\n",
    "    string_columns = ['agency_name', 'inspector_name', 'state', 'country', 'disposition']\n",
    "    for column in string_columns:\n",
    "        train[column] = train[column].str.lower()\n",
    "    train['ticket_issued_date'] = pd.to_datetime(train['ticket_issued_date'])\n",
    "    train['hearing_date'] = pd.to_datetime(train['hearing_date'])\n",
    "    train['time_difference'] = train['hearing_date'] - train['ticket_issued_date']\n",
    "    train['time_difference'] = train['time_difference'].dt.days\n",
    "    del train['ticket_issued_date']\n",
    "    del train['hearing_date']\n",
    "\n",
    "    str_dict = {}\n",
    "    for column in string_columns:\n",
    "        str_dict[column] = LabelEncoder()\n",
    "        train[column] = str_dict[column].fit_transform(train[column])\n",
    "\n",
    "    grid = GridSearchCV(RandomForestClassifier(n_estimators=50, n_jobs=4), param_grid={'max_depth': [1, 3, 10], 'max_features': [1, 2, 4]}, scoring='roc_auc')\n",
    "    X_train = train.iloc[:,:-2]\n",
    "    X_train['time_difference'] = train.iloc[:,-1]\n",
    "    y_train = train.iloc[:,-2]\n",
    "    # print(train.head())\n",
    "    grid.fit(X_train, y_train)\n",
    "\n",
    "    ticket = test['ticket_id']\n",
    "    test = test.loc[:, ['agency_name', 'inspector_name', 'state',\n",
    "                        'country', 'ticket_issued_date', 'hearing_date', 'disposition',\n",
    "                        'fine_amount', 'admin_fee', 'state_fee', 'late_fee',\n",
    "                        'discount_amount', 'judgment_amount']]\n",
    "    test = test.fillna(0)\n",
    "    for column in string_columns:\n",
    "        test[column] = test[column].str.lower()\n",
    "    test['ticket_issued_date'] = pd.to_datetime(test['ticket_issued_date'])\n",
    "    test['hearing_date'] = pd.to_datetime(test['hearing_date'])\n",
    "    test['time_difference'] = test['hearing_date'] - test['ticket_issued_date']\n",
    "    test['time_difference'] = test['time_difference'].dt.days\n",
    "    del test['ticket_issued_date']\n",
    "    del test['hearing_date']\n",
    "\n",
    "\n",
    "    for column in string_columns:\n",
    "        le_dict = dict(zip(str_dict[column].classes_, str_dict[column].transform(str_dict[column].classes_)))\n",
    "        test[column] = test[column].apply(lambda x: le_dict.get(x, -1))\n",
    "\n",
    "    output = pd.DataFrame(grid.predict_proba(test))\n",
    "    output = pd.merge(output, pd.DataFrame(ticket), left_index=True, right_index=True)\n",
    "    output = output.set_index('ticket_id')\n",
    "    output.columns = ['non-compliance', 'compliance']\n",
    "\n",
    "    return output['compliance']"
   ]
  },
  {
   "cell_type": "code",
   "execution_count": 29,
   "metadata": {
    "collapsed": true
   },
   "outputs": [
    {
     "output_type": "execute_result",
     "data": {
      "text/plain": "ticket_id\n284932    0.058132\n285362    0.017173\n285361    0.072795\n285338    0.062510\n285346    0.069651\n            ...   \n376496    0.010917\n376497    0.010917\n376499    0.070381\n376500    0.070381\n369851    0.497054\nName: compliance, Length: 61001, dtype: float64"
     },
     "metadata": {},
     "execution_count": 29
    }
   ],
   "source": [
    "blight_model()"
   ]
  }
 ],
 "metadata": {
  "coursera": {
   "course_slug": "python-machine-learning",
   "graded_item_id": "nNS8l",
   "launcher_item_id": "yWWk7",
   "part_id": "w8BSS"
  },
  "kernelspec": {
   "display_name": "Python 3",
   "language": "python",
   "name": "python3"
  },
  "language_info": {
   "codemirror_mode": {
    "name": "ipython",
    "version": 3
   },
   "file_extension": ".py",
   "mimetype": "text/x-python",
   "name": "python",
   "nbconvert_exporter": "python",
   "pygments_lexer": "ipython3",
   "version": "3.7.7-final"
  }
 },
 "nbformat": 4,
 "nbformat_minor": 2
}