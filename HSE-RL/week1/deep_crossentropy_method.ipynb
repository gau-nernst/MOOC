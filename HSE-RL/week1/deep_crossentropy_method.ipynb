{
  "nbformat": 4,
  "nbformat_minor": 0,
  "metadata": {
    "colab": {
      "name": "deep_crossentropy_method.ipynb",
      "provenance": [],
      "toc_visible": true
    },
    "kernelspec": {
      "name": "python3",
      "display_name": "Python 3"
    }
  },
  "cells": [
    {
      "cell_type": "markdown",
      "metadata": {
        "id": "jpVX2D5p1mO_"
      },
      "source": [
        "# Deep Crossentropy method\n",
        "\n",
        "In this section we'll extend your CEM implementation with neural networks! You will train a multi-layer neural network to solve simple continuous state space games. __Please make sure you're done with tabular crossentropy method from the previous notebook.__\n",
        "\n",
        "![img](https://tip.duke.edu/independent_learning/greek/lesson/digging_deeper_final.jpg)\n",
        "\n"
      ]
    },
    {
      "cell_type": "code",
      "metadata": {
        "id": "8v4czVrL1mPB",
        "outputId": "ea3e86e4-6a72-48c7-dca1-526948a4bf46",
        "colab": {
          "base_uri": "https://localhost:8080/",
          "height": 34
        }
      },
      "source": [
        "import sys, os\n",
        "if 'google.colab' in sys.modules and not os.path.exists('.setup_complete'):\n",
        "    !wget -q https://raw.githubusercontent.com/yandexdataschool/Practical_RL/spring20/setup_colab.sh -O- | bash\n",
        "\n",
        "    !wget -q https://raw.githubusercontent.com/yandexdataschool/Practical_RL/coursera/grading.py -O ../grading.py\n",
        "    !wget -q https://raw.githubusercontent.com/yandexdataschool/Practical_RL/coursera/week1_intro/submit.py\n",
        "\n",
        "    !touch .setup_complete\n",
        "\n",
        "# This code creates a virtual display to draw game images on.\n",
        "# It will have no effect if your machine has a monitor.\n",
        "if type(os.environ.get(\"DISPLAY\")) is not str or len(os.environ.get(\"DISPLAY\")) == 0:\n",
        "    !bash ../xvfb start\n",
        "    os.environ['DISPLAY'] = ':1'"
      ],
      "execution_count": 1,
      "outputs": [
        {
          "output_type": "stream",
          "text": [
            "Starting virtual X frame buffer: Xvfb.\n"
          ],
          "name": "stdout"
        }
      ]
    },
    {
      "cell_type": "code",
      "metadata": {
        "id": "fvSjQBSP1mPG",
        "outputId": "d8f7a686-be29-42e5-c6ad-9d254643242d",
        "colab": {
          "base_uri": "https://localhost:8080/",
          "height": 304
        }
      },
      "source": [
        "import gym\n",
        "import numpy as np\n",
        "import matplotlib.pyplot as plt\n",
        "%matplotlib inline\n",
        "\n",
        "# if you see \"<classname> has no attribute .env\", remove .env or update gym\n",
        "env = gym.make(\"CartPole-v0\").env\n",
        "\n",
        "env.reset()\n",
        "n_actions = env.action_space.n\n",
        "state_dim = env.observation_space.shape[0]\n",
        "\n",
        "plt.imshow(env.render(\"rgb_array\"))\n",
        "print(\"state vector dim =\", state_dim)\n",
        "print(\"n_actions =\", n_actions)"
      ],
      "execution_count": 2,
      "outputs": [
        {
          "output_type": "stream",
          "text": [
            "state vector dim = 4\n",
            "n_actions = 2\n"
          ],
          "name": "stdout"
        },
        {
          "output_type": "display_data",
          "data": {
            "image/png": "[encoded data removed]",
            "text/plain": [
              "<Figure size 432x288 with 1 Axes>"
            ]
          },
          "metadata": {
            "tags": [],
            "needs_background": "light"
          }
        }
      ]
    },
    {
      "cell_type": "markdown",
      "metadata": {
        "id": "zFvsqrbw1mPJ"
      },
      "source": [
        "# Neural Network Policy\n",
        "\n",
        "For this assignment we'll utilize the simplified neural network implementation from __[Scikit-learn](https://scikit-learn.org/stable/modules/generated/sklearn.neural_network.MLPClassifier.html)__. Here's what you'll need:\n",
        "\n",
        "* `agent.partial_fit(states, actions)` - make a single training pass over the data. Maximize the probabilitity of :actions: from :states:\n",
        "* `agent.predict_proba(states)` - predict probabilities of all actions, a matrix of shape __[len(states), n_actions]__\n"
      ]
    },
    {
      "cell_type": "code",
      "metadata": {
        "id": "KZ72m6Tg1mPK",
        "outputId": "0799770c-56b0-4a06-c051-4024522d8a4e",
        "colab": {
          "base_uri": "https://localhost:8080/",
          "height": 158
        }
      },
      "source": [
        "from sklearn.neural_network import MLPClassifier\n",
        "\n",
        "agent = MLPClassifier(\n",
        "    hidden_layer_sizes=(20, 20),\n",
        "    activation='tanh',\n",
        ")\n",
        "\n",
        "# initialize agent to the dimension of state space and number of actions\n",
        "agent.partial_fit([env.reset()] * n_actions, range(n_actions), range(n_actions))"
      ],
      "execution_count": 3,
      "outputs": [
        {
          "output_type": "execute_result",
          "data": {
            "text/plain": [
              "MLPClassifier(activation='tanh', alpha=0.0001, batch_size='auto', beta_1=0.9,\n",
              "              beta_2=0.999, early_stopping=False, epsilon=1e-08,\n",
              "              hidden_layer_sizes=(20, 20), learning_rate='constant',\n",
              "              learning_rate_init=0.001, max_fun=15000, max_iter=200,\n",
              "              momentum=0.9, n_iter_no_change=10, nesterovs_momentum=True,\n",
              "              power_t=0.5, random_state=None, shuffle=True, solver='adam',\n",
              "              tol=0.0001, validation_fraction=0.1, verbose=False,\n",
              "              warm_start=False)"
            ]
          },
          "metadata": {
            "tags": []
          },
          "execution_count": 3
        }
      ]
    },
    {
      "cell_type": "code",
      "metadata": {
        "id": "a9eBFx8h1mPM"
      },
      "source": [
        "def generate_session(env, agent, t_max=1000):\n",
        "    \"\"\"\n",
        "    Play a single game using agent neural network.\n",
        "    Terminate when game finishes or after :t_max: steps\n",
        "    \"\"\"\n",
        "    states, actions = [], []\n",
        "    total_reward = 0\n",
        "\n",
        "    s = env.reset()\n",
        "\n",
        "    for t in range(t_max):\n",
        "        \n",
        "        # use agent to predict a vector of action probabilities for state :s:\n",
        "        probs = agent.predict_proba(np.expand_dims(s,axis=0)).reshape(n_actions)\n",
        "\n",
        "        assert probs.shape == (n_actions,), \"make sure probabilities are a vector (hint: np.reshape)\"\n",
        "        \n",
        "        # use the probabilities you predicted to pick an action\n",
        "        # sample proportionally to the probabilities, don't just take the most likely action\n",
        "        a = np.random.choice(n_actions, p=probs)\n",
        "        # ^-- hint: try np.random.choice\n",
        "\n",
        "        new_s, r, done, info = env.step(a)\n",
        "\n",
        "        # record sessions like you did before\n",
        "        states.append(s)\n",
        "        actions.append(a)\n",
        "        total_reward += r\n",
        "\n",
        "        s = new_s\n",
        "        if done:\n",
        "            break\n",
        "    return states, actions, total_reward"
      ],
      "execution_count": 4,
      "outputs": []
    },
    {
      "cell_type": "code",
      "metadata": {
        "id": "y7nBIzoS1mPP",
        "outputId": "a39ce44b-5d25-49bb-8e47-0744e9eb4405",
        "colab": {
          "base_uri": "https://localhost:8080/",
          "height": 140
        }
      },
      "source": [
        "dummy_states, dummy_actions, dummy_reward = generate_session(env, agent, t_max=5)\n",
        "print(\"states:\", np.stack(dummy_states))\n",
        "print(\"actions:\", dummy_actions)\n",
        "print(\"reward:\", dummy_reward)"
      ],
      "execution_count": 5,
      "outputs": [
        {
          "output_type": "stream",
          "text": [
            "states: [[ 0.02768202  0.02586717 -0.02193208  0.0423743 ]\n",
            " [ 0.02819936  0.22129664 -0.02108459 -0.25714692]\n",
            " [ 0.0326253   0.41671317 -0.02622753 -0.55640497]\n",
            " [ 0.04095956  0.61219333 -0.03735563 -0.85723438]\n",
            " [ 0.05320343  0.80780378 -0.05450032 -1.16142536]]\n",
            "actions: [1, 1, 1, 1, 0]\n",
            "reward: 5.0\n"
          ],
          "name": "stdout"
        }
      ]
    },
    {
      "cell_type": "markdown",
      "metadata": {
        "id": "PO97CKR71mPS"
      },
      "source": [
        "### CEM steps\n",
        "Deep CEM uses exactly the same strategy as the regular CEM, so you can copy your function code from previous notebook.\n",
        "\n",
        "The only difference is that now each observation is not a number but a `float32` vector."
      ]
    },
    {
      "cell_type": "code",
      "metadata": {
        "id": "jqsFxCJb1mPT"
      },
      "source": [
        "def select_elites(states_batch, actions_batch, rewards_batch, percentile=50):\n",
        "    \"\"\"\n",
        "    Select states and actions from games that have rewards >= percentile\n",
        "    :param states_batch: list of lists of states, states_batch[session_i][t]\n",
        "    :param actions_batch: list of lists of actions, actions_batch[session_i][t]\n",
        "    :param rewards_batch: list of rewards, rewards_batch[session_i]\n",
        "\n",
        "    :returns: elite_states,elite_actions, both 1D lists of states and respective actions from elite sessions\n",
        "\n",
        "    Please return elite states and actions in their original order \n",
        "    [i.e. sorted by session number and timestep within session]\n",
        "\n",
        "    If you are confused, see examples below. Please don't assume that states are integers\n",
        "    (they will become different later).\n",
        "    \"\"\"\n",
        "\n",
        "    threshold = np.percentile(rewards_batch, percentile)\n",
        "\n",
        "    elite_states = []\n",
        "    elite_actions = []\n",
        "\n",
        "    for i, reward in enumerate(rewards_batch):\n",
        "        if reward >= threshold:\n",
        "            elite_states.extend(states_batch[i])\n",
        "            elite_actions.extend(actions_batch[i])\n",
        "    \n",
        "    return elite_states, elite_actions"
      ],
      "execution_count": 6,
      "outputs": []
    },
    {
      "cell_type": "markdown",
      "metadata": {
        "id": "Z_jCCA761mPV"
      },
      "source": [
        "# Training loop\n",
        "Generate sessions, select N best and fit to those."
      ]
    },
    {
      "cell_type": "code",
      "metadata": {
        "id": "xcna30xP1mPW"
      },
      "source": [
        "from IPython.display import clear_output\n",
        "\n",
        "def show_progress(rewards_batch, log, percentile, reward_range=[-990, +10]):\n",
        "    \"\"\"\n",
        "    A convenience function that displays training progress. \n",
        "    No cool math here, just charts.\n",
        "    \"\"\"\n",
        "\n",
        "    mean_reward = np.mean(rewards_batch)\n",
        "    threshold = np.percentile(rewards_batch, percentile)\n",
        "    log.append([mean_reward, threshold])\n",
        "\n",
        "    clear_output(True)\n",
        "    print(\"mean reward = %.3f, threshold=%.3f\" % (mean_reward, threshold))\n",
        "    plt.figure(figsize=[8, 4])\n",
        "    plt.subplot(1, 2, 1)\n",
        "    plt.plot(list(zip(*log))[0], label='Mean rewards')\n",
        "    plt.plot(list(zip(*log))[1], label='Reward thresholds')\n",
        "    plt.legend()\n",
        "    plt.grid()\n",
        "\n",
        "    plt.subplot(1, 2, 2)\n",
        "    plt.hist(rewards_batch, range=reward_range)\n",
        "    plt.vlines([np.percentile(rewards_batch, percentile)],\n",
        "               [0], [100], label=\"percentile\", color='red')\n",
        "    plt.legend()\n",
        "    plt.grid()\n",
        "\n",
        "    plt.show()"
      ],
      "execution_count": 7,
      "outputs": []
    },
    {
      "cell_type": "code",
      "metadata": {
        "id": "4HU4EI1D1mPZ",
        "outputId": "6037461c-03b5-45a8-a35e-bbcb872b80d1",
        "colab": {
          "base_uri": "https://localhost:8080/",
          "height": 303
        }
      },
      "source": [
        "n_sessions = 100\n",
        "percentile = 70\n",
        "log = []\n",
        "\n",
        "for i in range(100):\n",
        "    # generate new sessions\n",
        "    sessions = [ generate_session(env, agent) for _ in range(n_sessions) ]\n",
        "\n",
        "    states_batch, actions_batch, rewards_batch = map(np.array, zip(*sessions))\n",
        "\n",
        "    elite_states, elite_actions = select_elites(states_batch, actions_batch, rewards_batch, percentile)\n",
        "\n",
        "    agent.partial_fit(elite_states, elite_actions, range(n_actions))\n",
        "\n",
        "    show_progress(rewards_batch, log, percentile, reward_range=[0, np.max(rewards_batch)])\n",
        "\n",
        "    if np.mean(rewards_batch) > 190:\n",
        "        print(\"You Win! You may stop training now via KeyboardInterrupt.\")\n",
        "        break"
      ],
      "execution_count": 8,
      "outputs": [
        {
          "output_type": "stream",
          "text": [
            "mean reward = 190.970, threshold=216.900\n"
          ],
          "name": "stdout"
        },
        {
          "output_type": "display_data",
          "data": {
            "image/png": "[encoded data removed]",
            "text/plain": [
              "<Figure size 576x288 with 2 Axes>"
            ]
          },
          "metadata": {
            "tags": [],
            "needs_background": "light"
          }
        },
        {
          "output_type": "stream",
          "text": [
            "You Win! You may stop training now via KeyboardInterrupt.\n"
          ],
          "name": "stdout"
        }
      ]
    },
    {
      "cell_type": "markdown",
      "metadata": {
        "id": "pGfY5GYb1mPe"
      },
      "source": [
        "# Results"
      ]
    },
    {
      "cell_type": "code",
      "metadata": {
        "id": "IJQcIHHG1mPe"
      },
      "source": [
        "# Record sessions\n",
        "\n",
        "import gym.wrappers\n",
        "\n",
        "with gym.wrappers.Monitor(gym.make(\"CartPole-v0\"), directory=\"videos\", force=True) as env_monitor:\n",
        "    sessions = [generate_session(env_monitor, agent) for _ in range(100)]"
      ],
      "execution_count": 9,
      "outputs": []
    },
    {
      "cell_type": "code",
      "metadata": {
        "id": "lz2tiOzF1mPh",
        "outputId": "671367e5-62ac-4ef0-c160-d1c03909e0f8",
        "colab": {
          "base_uri": "https://localhost:8080/",
          "height": 500
        }
      },
      "source": [
        "# Show video. This may not work in some setups. If it doesn't\n",
        "# work for you, you can download the videos and view them locally.\n",
        "\n",
        "from pathlib import Path\n",
        "from IPython.display import HTML\n",
        "from base64 import b64encode\n",
        "\n",
        "video_names = sorted([s for s in Path('videos').iterdir() if s.suffix == '.mp4'])\n",
        "mp4 = open(video_names[-1],'rb').read()\n",
        "data_url = \"data:video/mp4;base64,\" + b64encode(mp4).decode()\n",
        "\n",
        "HTML(\"\"\"\n",
        "<video width=\"640\" height=\"480\" controls>\n",
        "  <source src=\"{}\" type=\"video/mp4\">\n",
        "</video>\n",
        "\"\"\".format(data_url))  # You can also try other indices"
      ],
      "execution_count": 10,
      "outputs": [
        {
          "output_type": "execute_result",
          "data": {
            "text/html": [
              "\n",
              "<video width=\"640\" height=\"480\" controls>\n",
              "  <source src=\"data:video/mp4;base64,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\" type=\"video/mp4\">\n",
              "</video>\n"
            ],
            "text/plain": [
              "<IPython.core.display.HTML object>"
            ]
          },
          "metadata": {
            "tags": []
          },
          "execution_count": 10
        }
      ]
    },
    {
      "cell_type": "markdown",
      "metadata": {
        "id": "lE0p0zR-1mPk"
      },
      "source": [
        "## Assignment: MountainCar\n",
        "\n",
        "By this moment you should have got enough score on [CartPole-v0](https://gym.openai.com/envs/CartPole-v0) to consider it solved (see the link). It's time to try something harder.\n",
        "\n",
        "_if you have any trouble with CartPole-v0 and feel stuck, take a look at the forums_\n",
        "\n",
        "Your assignment is to obtain average reward of __at least -150__ on `MountainCar-v0`.\n",
        "\n",
        "See the tips section below, it's kinda important.\n",
        "  \n",
        "* Bonus quest: Devise a way to speed up training against the default version\n",
        "  * Obvious improvement: use [joblib](https://www.google.com/search?client=ubuntu&channel=fs&q=joblib&ie=utf-8&oe=utf-8)\n",
        "  * Try re-using samples from 3-5 last iterations when computing threshold and training\n",
        "  * Experiment with amount of training iterations and learning rate of the neural network (see params)\n",
        "  \n",
        "  \n",
        "### Tips\n",
        "* Gym page: [MountainCar](https://gym.openai.com/envs/MountainCar-v0)\n",
        "* Sessions for MountainCar may last for 10k+ ticks. Make sure ```t_max``` param is at least 10k.\n",
        " * Also it may be a good idea to cut rewards via \">\" and not \">=\". If 90% of your sessions get reward of -10k and 10% are better, than if you use percentile 20% as threshold, R >= threshold __fails cut off bad sessions__ whule R > threshold works alright.\n",
        "* _issue with gym_: Some versions of gym limit game time by 200 ticks. This will prevent cem training in most cases. Make sure your agent is able to play for the specified __t_max__, and if it isn't, try `env = gym.make(\"MountainCar-v0\").env` or otherwise get rid of TimeLimit wrapper.\n",
        "* If it won't train it's a good idea to plot reward distribution and record sessions: they may give you some clue. If they don't, call course staff :)\n",
        "* 20-neuron network is probably not enough, feel free to experiment.\n",
        "\n",
        "You may find the following snippet useful:"
      ]
    },
    {
      "cell_type": "code",
      "metadata": {
        "id": "bXUbAY3E4I1o",
        "outputId": "517823c7-c79e-42b9-b241-aebef37d7b12",
        "colab": {
          "base_uri": "https://localhost:8080/",
          "height": 304
        }
      },
      "source": [
        "env = gym.make('MountainCar-v0').env\n",
        "env.reset()\n",
        "\n",
        "n_actions = env.action_space.n\n",
        "state_dim = env.observation_space.shape[0]\n",
        "\n",
        "plt.imshow(env.render(\"rgb_array\"))\n",
        "print(\"state vector dim =\", state_dim)\n",
        "print(\"n_actions =\", n_actions)"
      ],
      "execution_count": 11,
      "outputs": [
        {
          "output_type": "stream",
          "text": [
            "state vector dim = 2\n",
            "n_actions = 3\n"
          ],
          "name": "stdout"
        },
        {
          "output_type": "display_data",
          "data": {
            "image/png": "[encoded data removed]",
            "text/plain": [
              "<Figure size 432x288 with 1 Axes>"
            ]
          },
          "metadata": {
            "tags": [],
            "needs_background": "light"
          }
        }
      ]
    },
    {
      "cell_type": "code",
      "metadata": {
        "id": "rt_rz_A54iGG",
        "outputId": "f8c47077-f2b9-4c0c-9a3c-ba3dec06e5ec",
        "colab": {
          "base_uri": "https://localhost:8080/",
          "height": 158
        }
      },
      "source": [
        "agent = MLPClassifier(\n",
        "    hidden_layer_sizes=(100, 50),\n",
        ")\n",
        "\n",
        "agent.partial_fit([env.reset()] * n_actions, range(n_actions), range(n_actions))"
      ],
      "execution_count": 12,
      "outputs": [
        {
          "output_type": "execute_result",
          "data": {
            "text/plain": [
              "MLPClassifier(activation='relu', alpha=0.0001, batch_size='auto', beta_1=0.9,\n",
              "              beta_2=0.999, early_stopping=False, epsilon=1e-08,\n",
              "              hidden_layer_sizes=(100, 50), learning_rate='constant',\n",
              "              learning_rate_init=0.001, max_fun=15000, max_iter=200,\n",
              "              momentum=0.9, n_iter_no_change=10, nesterovs_momentum=True,\n",
              "              power_t=0.5, random_state=None, shuffle=True, solver='adam',\n",
              "              tol=0.0001, validation_fraction=0.1, verbose=False,\n",
              "              warm_start=False)"
            ]
          },
          "metadata": {
            "tags": []
          },
          "execution_count": 12
        }
      ]
    },
    {
      "cell_type": "code",
      "metadata": {
        "id": "eeKVsze51mPm"
      },
      "source": [
        "# Implement generate_session_mountain_car(), training loop, etc.\n",
        "\n",
        "def generate_session_mountain_car(env, agent, t_max=10000):\n",
        "    s = env.reset()\n",
        "\n",
        "    states = []\n",
        "    actions = []\n",
        "    total_reward = 0\n",
        "    \n",
        "    for _ in range(t_max):\n",
        "        probs = agent.predict_proba(np.expand_dims(s, axis=0)).reshape(n_actions,)\n",
        "        a = np.random.choice(n_actions, p=probs)\n",
        "\n",
        "        new_s, r, done, info = env.step(a)\n",
        "\n",
        "        states.append(s)\n",
        "        actions.append(a)\n",
        "        total_reward += r\n",
        "\n",
        "        s = new_s\n",
        "        if done:\n",
        "            break\n",
        "\n",
        "    env.close()\n",
        "\n",
        "    return states, actions, total_reward"
      ],
      "execution_count": 13,
      "outputs": []
    },
    {
      "cell_type": "code",
      "metadata": {
        "id": "xZysBQtXCi64"
      },
      "source": [
        "def select_elites_mountain_car(states_batch, actions_batch, rewards_batch, percentile=50):\n",
        "    threshold = np.percentile(rewards_batch, percentile)\n",
        "\n",
        "    elite_states = []\n",
        "    elite_actions = []\n",
        "\n",
        "    for i, reward in enumerate(rewards_batch):\n",
        "        # change >= to > so that it discards majority of overwhelming bad scores\n",
        "        if reward > threshold:\n",
        "            elite_states.extend(states_batch[i])\n",
        "            elite_actions.extend(actions_batch[i])\n",
        "    \n",
        "    return elite_states, elite_actions"
      ],
      "execution_count": 14,
      "outputs": []
    },
    {
      "cell_type": "code",
      "metadata": {
        "id": "F7ouWUdl5t4b",
        "outputId": "027b8be8-31ac-4f66-9f83-0d8e20fd4dcc",
        "colab": {
          "base_uri": "https://localhost:8080/",
          "height": 282
        }
      },
      "source": [
        "n_sessions = 100\n",
        "percentile = 70\n",
        "log = []\n",
        "\n",
        "for i in range(100):\n",
        "    sessions = [ generate_session_mountain_car(env, agent) for _ in range(n_sessions) ]\n",
        "\n",
        "    states_batch, actions_batch, rewards_batch = map(np.array, zip(*sessions))\n",
        "\n",
        "    elite_states, elite_actions = select_elites_mountain_car(states_batch, actions_batch, rewards_batch, percentile)\n",
        "\n",
        "    agent.partial_fit(elite_states, elite_actions, range(n_actions))\n",
        "\n",
        "    show_progress(rewards_batch, log, percentile, reward_range=[np.min(rewards_batch), np.max(rewards_batch)])\n",
        "\n",
        "    if np.mean(rewards_batch) > -140:\n",
        "        break"
      ],
      "execution_count": 15,
      "outputs": [
        {
          "output_type": "stream",
          "text": [
            "mean reward = -135.540, threshold=-119.700\n"
          ],
          "name": "stdout"
        },
        {
          "output_type": "display_data",
          "data": {
            "image/png": "[encoded data removed]",
            "text/plain": [
              "<Figure size 576x288 with 2 Axes>"
            ]
          },
          "metadata": {
            "tags": [],
            "needs_background": "light"
          }
        }
      ]
    },
    {
      "cell_type": "code",
      "metadata": {
        "id": "khxWYv4xD4VG",
        "outputId": "4f139b19-a55c-4ed0-acc7-786cc245e7f7",
        "colab": {
          "base_uri": "https://localhost:8080/",
          "height": 282
        }
      },
      "source": [
        "session = generate_session_mountain_car(env, agent)\n",
        "states, _, _ = session\n",
        "plt.plot(np.arange(len(states)), [x[0] for x in states])"
      ],
      "execution_count": 16,
      "outputs": [
        {
          "output_type": "execute_result",
          "data": {
            "text/plain": [
              "[<matplotlib.lines.Line2D at 0x7fc177c3e518>]"
            ]
          },
          "metadata": {
            "tags": []
          },
          "execution_count": 16
        },
        {
          "output_type": "display_data",
          "data": {
            "image/png": "[encoded data removed]",
            "text/plain": [
              "<Figure size 432x288 with 1 Axes>"
            ]
          },
          "metadata": {
            "tags": [],
            "needs_background": "light"
          }
        }
      ]
    },
    {
      "cell_type": "code",
      "metadata": {
        "id": "mDXRBXau1mPk",
        "outputId": "8c209457-d2cf-4ee0-ac8d-1e18b3fa8803",
        "colab": {
          "base_uri": "https://localhost:8080/",
          "height": 268
        }
      },
      "source": [
        "def visualize_mountain_car(env, agent):\n",
        "    xs = np.linspace(env.min_position, env.max_position, 100)\n",
        "    vs = np.linspace(-env.max_speed, env.max_speed, 100)\n",
        "    grid = np.dstack(np.meshgrid(xs, vs)).transpose(1, 0, 2)\n",
        "    grid_flat = grid.reshape(len(xs) * len(vs), 2)\n",
        "    probs = agent.predict_proba(grid_flat).reshape(len(xs), len(vs), 3)\n",
        "    return probs\n",
        "\n",
        "with gym.make('MountainCar-v0').env as env_vis:\n",
        "    plt.imshow(visualize_mountain_car(env_vis, agent))"
      ],
      "execution_count": 17,
      "outputs": [
        {
          "output_type": "display_data",
          "data": {
            "image/png": "[encoded data removed]",
            "text/plain": [
              "<Figure size 432x288 with 1 Axes>"
            ]
          },
          "metadata": {
            "tags": [],
            "needs_background": "light"
          }
        }
      ]
    },
    {
      "cell_type": "markdown",
      "metadata": {
        "id": "Pc3gFhPg1mPp"
      },
      "source": [
        "### Submit to Coursera"
      ]
    },
    {
      "cell_type": "code",
      "metadata": {
        "id": "ImsoxttJ1mPq",
        "outputId": "5faaf2bd-6e40-46b2-80ce-3b02d5e13416",
        "colab": {
          "base_uri": "https://localhost:8080/",
          "height": 52
        }
      },
      "source": [
        "from submit import submit_mountain_car\n",
        "submit_mountain_car(generate_session_mountain_car, agent, 'tran0096@e.ntu.edu.sg', 'oSb8m24Ukf0hpdo3')"
      ],
      "execution_count": 19,
      "outputs": [
        {
          "output_type": "stream",
          "text": [
            "Your average reward is -143.93 over 100 episodes\n",
            "Submitted to Coursera platform. See results on assignment page!\n"
          ],
          "name": "stdout"
        }
      ]
    }
  ]
}